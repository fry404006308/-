{
 "cells": [
  {
   "cell_type": "markdown",
   "metadata": {},
   "source": [
    "# <div style=\"color:red;text-align:center;\">画动态直方图</div>"
   ]
  },
  {
   "cell_type": "markdown",
   "metadata": {},
   "source": [
    "### 均匀分布"
   ]
  },
  {
   "cell_type": "code",
   "execution_count": 1,
   "metadata": {},
   "outputs": [],
   "source": [
    "import numpy as np\n",
    "import matplotlib.pyplot as plt\n",
    "from matplotlib import animation\n",
    "%matplotlib qt5\n",
    "\n",
    "a=np.array([])\n",
    "for i in range(100):\n",
    "    for _ in range(100):\n",
    "        add_num=np.sum(np.random.rand(1))\n",
    "        a=np.append(a,add_num)\n",
    "        pass\n",
    "    # plt.clf() # Clear the current figure.\n",
    "    plt.cla()   # Clear the current axes.\n",
    "    plt.hist(a, bins=30, color='g', alpha=0.75)  # hist:绘制直方图\n",
    "    plt.grid()\n",
    "    plt.pause(0.1)\n",
    "    plt.show()"
   ]
  },
  {
   "cell_type": "markdown",
   "metadata": {},
   "source": [
    "### 中心极限定理\n",
    "\n",
    "中心极限定理指的是给定一个任意分布的总体。我每次从这些总体中随机抽取 n 个抽样，一共抽 m 次。 然后把这 m 组抽样分别求出平均值。 这些平均值的分布接近正态分布。"
   ]
  },
  {
   "cell_type": "code",
   "execution_count": 2,
   "metadata": {},
   "outputs": [],
   "source": [
    "import numpy as np\n",
    "import matplotlib.pyplot as plt\n",
    "from matplotlib import animation\n",
    "%matplotlib qt5\n",
    "\n",
    "a=np.array([])\n",
    "for i in range(100):\n",
    "    for _ in range(100):\n",
    "        add_num=np.sum(np.random.rand(20))\n",
    "        a=np.append(a,add_num)\n",
    "        pass\n",
    "    # plt.clf() # Clear the current figure.\n",
    "    plt.cla()   # Clear the current axes.\n",
    "    plt.hist(a, bins=30, color='g', alpha=0.75)  # hist:绘制直方图\n",
    "    plt.grid()\n",
    "    plt.pause(0.1)\n",
    "    plt.show()"
   ]
  },
  {
   "cell_type": "code",
   "execution_count": null,
   "metadata": {},
   "outputs": [],
   "source": []
  }
 ],
 "metadata": {
  "kernelspec": {
   "display_name": "Python 3",
   "language": "python",
   "name": "python3"
  },
  "language_info": {
   "codemirror_mode": {
    "name": "ipython",
    "version": 3
   },
   "file_extension": ".py",
   "mimetype": "text/x-python",
   "name": "python",
   "nbconvert_exporter": "python",
   "pygments_lexer": "ipython3",
   "version": "3.7.6"
  }
 },
 "nbformat": 4,
 "nbformat_minor": 4
}
