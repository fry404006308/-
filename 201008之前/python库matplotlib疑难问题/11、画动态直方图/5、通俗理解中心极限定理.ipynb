{
 "cells": [
  {
   "cell_type": "markdown",
   "metadata": {},
   "source": [
    "# <div style=\"color:red;text-align:center;\">通俗理解中心极限定理</div>"
   ]
  },
  {
   "cell_type": "markdown",
   "metadata": {},
   "source": [
    "### 一、中心极限定理（Central Limit Theorem）\n",
    "\n",
    "1.1、研究什么\n",
    "\n",
    "中心极限定理是研究独立随机变量和的极限分布为正态分布的问题。\n",
    "\n",
    "1.2、定义\n",
    "\n",
    "中心极限定理指的是给定一个任意分布的总体，我每次从这些总体中随机抽取 n 个抽样，一共抽 m 次， 然后把这 m 组抽样分别求出和（或者平均值），这些和（或者平均值）的分布接近正态分布。\n",
    "\n",
    "1.3、通俗解释\n",
    "\n",
    "中心极限定理就是一般在同分布的情况下,样本值的和在总体数量趋于无穷时的极限分布近似于正态分布.（即在同一分布，抽取样本的极限分布于总体数量趋于无穷大时的极限分布相同且近似于正态分布，那么我们就可以用抽取样本来描述总体样本无穷大时的极限分布）"
   ]
  },
  {
   "cell_type": "markdown",
   "metadata": {},
   "source": [
    "### 二、均匀分布"
   ]
  },
  {
   "cell_type": "markdown",
   "metadata": {},
   "source": [
    "验证这是正儿八经的均匀分布"
   ]
  },
  {
   "cell_type": "code",
   "execution_count": 3,
   "metadata": {},
   "outputs": [],
   "source": [
    "import numpy as np\n",
    "import matplotlib.pyplot as plt\n",
    "%matplotlib qt5\n",
    "\n",
    "a=np.array([])\n",
    "for i in range(110):\n",
    "    for _ in range(100):\n",
    "        add_num=np.sum(np.random.rand(1))\n",
    "        a=np.append(a,add_num)\n",
    "        pass\n",
    "    # plt.clf() # Clear the current figure.\n",
    "    plt.cla()   # Clear the current axes.\n",
    "    plt.hist(a, bins=30, color='g', alpha=0.75)  # hist:绘制直方图\n",
    "    plt.grid()\n",
    "    plt.pause(0.1)\n",
    "    plt.show()"
   ]
  },
  {
   "cell_type": "markdown",
   "metadata": {},
   "source": [
    "来看看均匀分布对应的中心极限定理\n",
    "\n",
    "样例： 从均匀分布中每次取90个点求和，取11000次，每100个点显示一次"
   ]
  },
  {
   "cell_type": "code",
   "execution_count": 5,
   "metadata": {},
   "outputs": [],
   "source": [
    "import numpy as np\n",
    "import matplotlib.pyplot as plt\n",
    "%matplotlib qt5\n",
    "\n",
    "a=np.array([])\n",
    "for i in range(110):\n",
    "    for _ in range(100):\n",
    "        add_num=np.sum(np.random.rand(90))\n",
    "        a=np.append(a,add_num)\n",
    "        pass\n",
    "    # plt.clf() # Clear the current figure.\n",
    "    plt.cla()   # Clear the current axes.\n",
    "    plt.hist(a, bins=30, color='g', alpha=0.75)  # hist:绘制直方图\n",
    "    plt.grid()\n",
    "    plt.pause(0.1)\n",
    "    plt.show()"
   ]
  },
  {
   "cell_type": "code",
   "execution_count": 4,
   "metadata": {},
   "outputs": [
    {
     "name": "stdout",
     "output_type": "stream",
     "text": [
      "['BitGenerator', 'Generator', 'MT19937', 'PCG64', 'Philox', 'RandomState', 'SFC64', 'SeedSequence', '__RandomState_ctor', '__all__', '__builtins__', '__cached__', '__doc__', '__file__', '__loader__', '__name__', '__package__', '__path__', '__spec__', '_bit_generator', '_bounded_integers', '_common', '_generator', '_mt19937', '_pcg64', '_philox', '_pickle', '_sfc64', 'absolute_import', 'beta', 'binomial', 'bytes', 'chisquare', 'choice', 'default_rng', 'dirichlet', 'division', 'exponential', 'f', 'gamma', 'geometric', 'get_state', 'gumbel', 'hypergeometric', 'laplace', 'logistic', 'lognormal', 'logseries', 'mtrand', 'multinomial', 'multivariate_normal', 'negative_binomial', 'noncentral_chisquare', 'noncentral_f', 'normal', 'pareto', 'permutation', 'poisson', 'power', 'print_function', 'rand', 'randint', 'randn', 'random', 'random_integers', 'random_sample', 'ranf', 'rayleigh', 'sample', 'seed', 'set_state', 'shuffle', 'standard_cauchy', 'standard_exponential', 'standard_gamma', 'standard_normal', 'standard_t', 'test', 'triangular', 'uniform', 'vonmises', 'wald', 'weibull', 'zipf']\n"
     ]
    }
   ],
   "source": [
    "# help(np.random)\n",
    "print(dir(np.random))"
   ]
  },
  {
   "cell_type": "markdown",
   "metadata": {},
   "source": [
    "### 三、泊松分布\n",
    "\n",
    "先来看看正儿八经的泊松分布张啥样\n",
    "\n",
    "![11.png](11.png)"
   ]
  },
  {
   "cell_type": "code",
   "execution_count": 14,
   "metadata": {},
   "outputs": [],
   "source": [
    "import numpy as np\n",
    "import matplotlib.pyplot as plt\n",
    "from matplotlib import animation\n",
    "%matplotlib qt5\n",
    "\n",
    "a=np.array([])\n",
    "for i in range(110):\n",
    "    for _ in range(100):\n",
    "        add_num=np.sum(np.random.poisson(1)) #默认λ等于1\n",
    "        a=np.append(a,add_num)\n",
    "        pass\n",
    "    # plt.clf() # Clear the current figure.\n",
    "    plt.cla()   # Clear the current axes.\n",
    "    plt.hist(a, bins=30, color='g', alpha=0.75)  # hist:绘制直方图\n",
    "    plt.grid()\n",
    "    plt.pause(0.1)\n",
    "    plt.show()"
   ]
  },
  {
   "cell_type": "markdown",
   "metadata": {},
   "source": [
    "看看每次取90个值求和之后的效果"
   ]
  },
  {
   "cell_type": "code",
   "execution_count": 15,
   "metadata": {},
   "outputs": [
    {
     "name": "stdout",
     "output_type": "stream",
     "text": [
      "[1 1 1 3 0 1 0 0 1 1 0 0 0 0 1 0 2 0 1 3 1 1 1 0 1 1 0 1 1 0 2 1 0 1 0 0 2\n",
      " 0 1 3 2 1 0 0 1 0 0 3 0 0 1 0 4 0 1 1 0 1 0 0 3 2 0 2 2 2 0 0 1 1 2 1 0 1\n",
      " 1 1 1 1 1 0 2 1 0 1 3 0 0 3 1 1]\n"
     ]
    }
   ],
   "source": [
    "import numpy as np\n",
    "import matplotlib.pyplot as plt\n",
    "from matplotlib import animation\n",
    "%matplotlib qt5\n",
    "\n",
    "print(np.random.poisson(1,90))\n",
    "\n",
    "a=np.array([])\n",
    "for i in range(110):\n",
    "    for _ in range(100):\n",
    "        add_num=np.sum(np.random.poisson(1,90))\n",
    "        a=np.append(a,add_num)\n",
    "        pass\n",
    "    # plt.clf() # Clear the current figure.\n",
    "    plt.cla()   # Clear the current axes.\n",
    "    plt.hist(a, bins=30, color='g', alpha=0.75)  # hist:绘制直方图\n",
    "    plt.grid()\n",
    "    plt.pause(0.1)\n",
    "    plt.show()"
   ]
  },
  {
   "cell_type": "markdown",
   "metadata": {},
   "source": [
    "### 四、指数分布"
   ]
  },
  {
   "cell_type": "markdown",
   "metadata": {},
   "source": [
    "![指数分布.png](指数分布.png)"
   ]
  },
  {
   "cell_type": "code",
   "execution_count": 16,
   "metadata": {},
   "outputs": [],
   "source": [
    "import numpy as np\n",
    "import matplotlib.pyplot as plt\n",
    "from matplotlib import animation\n",
    "%matplotlib qt5\n",
    "\n",
    "a=np.array([])\n",
    "for i in range(110):\n",
    "    for _ in range(100):\n",
    "        add_num=np.sum(np.random.exponential(1))\n",
    "        a=np.append(a,add_num)\n",
    "        pass\n",
    "    # plt.clf() # Clear the current figure.\n",
    "    plt.cla()   # Clear the current axes.\n",
    "    plt.hist(a, bins=30, color='g', alpha=0.75)  # hist:绘制直方图\n",
    "    plt.grid()\n",
    "    plt.pause(0.1)\n",
    "    plt.show()"
   ]
  },
  {
   "cell_type": "markdown",
   "metadata": {},
   "source": [
    "看看每次取90个值求和之后的效果"
   ]
  },
  {
   "cell_type": "code",
   "execution_count": 17,
   "metadata": {},
   "outputs": [],
   "source": [
    "import numpy as np\n",
    "import matplotlib.pyplot as plt\n",
    "from matplotlib import animation\n",
    "%matplotlib qt5\n",
    "\n",
    "# print(np.random.exponential(1,20))\n",
    "# print(np.sum(np.random.exponential(1,20)))\n",
    "\n",
    "a=np.array([])\n",
    "for i in range(110):\n",
    "    for _ in range(100):\n",
    "        add_num=np.sum(np.random.exponential(1,90))\n",
    "        a=np.append(a,add_num)\n",
    "        pass\n",
    "    # plt.clf() # Clear the current figure.\n",
    "    plt.cla()   # Clear the current axes.\n",
    "    plt.hist(a, bins=30, color='g', alpha=0.75)  # hist:绘制直方图\n",
    "    plt.grid()\n",
    "    plt.pause(0.1)\n",
    "    plt.show()"
   ]
  },
  {
   "cell_type": "markdown",
   "metadata": {},
   "source": [
    "### 五、总结"
   ]
  },
  {
   "cell_type": "markdown",
   "metadata": {},
   "source": [
    "中心极限定理（CLT）指出，如果样本量足够大，【则变量均值的采样分布将近似于正态分布，而与该变量在总体中的分布无关】。"
   ]
  },
  {
   "cell_type": "code",
   "execution_count": null,
   "metadata": {},
   "outputs": [],
   "source": []
  }
 ],
 "metadata": {
  "kernelspec": {
   "display_name": "Python 3",
   "language": "python",
   "name": "python3"
  },
  "language_info": {
   "codemirror_mode": {
    "name": "ipython",
    "version": 3
   },
   "file_extension": ".py",
   "mimetype": "text/x-python",
   "name": "python",
   "nbconvert_exporter": "python",
   "pygments_lexer": "ipython3",
   "version": "3.7.6"
  }
 },
 "nbformat": 4,
 "nbformat_minor": 4
}
