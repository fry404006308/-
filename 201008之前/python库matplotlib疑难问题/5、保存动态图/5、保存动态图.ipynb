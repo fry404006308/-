{
 "cells": [
  {
   "cell_type": "markdown",
   "metadata": {},
   "source": [
    "# <div style=\"color:red;text-align:center;\">保存动态图</div>"
   ]
  },
  {
   "cell_type": "code",
   "execution_count": 1,
   "metadata": {},
   "outputs": [],
   "source": [
    "import numpy as np\n",
    "import matplotlib.pyplot as plt\n",
    "from matplotlib import animation\n",
    "# 激活matplotlib后端的渲染引擎qt5\n",
    "%matplotlib qt5\n",
    "\n",
    "x=np.arange(0,2*np.pi,0.01)\n",
    "y=np.sin(x)\n",
    "fig=plt.figure()\n",
    "line,=plt.plot(x,y)\n",
    "\n",
    "# 动画函数\n",
    "def animate(i):\n",
    "    line.set_ydata(np.sin(x+i/100))\n",
    "    return line,\n",
    "\n",
    "# 动画初始函数\n",
    "def init():\n",
    "    line.set_ydata(np.sin(x))\n",
    "    return line,\n",
    "\n",
    "\n",
    "\"\"\"\n",
    "fig：figure对象\n",
    "animate：动画函数，不断更新图像的函数，生成新的xdata和ydata\n",
    "frames：动画的帧数\n",
    "init_func=init：动画初始化函数为init，自定义开始帧。\n",
    "interval=20：动画每一帧时间间隔为20ms，interval的单位以ms计算。\n",
    "blit=True：选择更新所有点，还是仅更新产生变化的点。应选择True，但mac用户请选择False，否则无法显示。\n",
    "\"\"\"\n",
    "# 现在frames=100,interval=20，动画有100帧，每帧20ms，所以动画总共持续2s\n",
    "ani=animation.FuncAnimation(fig=fig,func=animate,frames=100,init_func=init,interval=20,blit=True)\n",
    "plt.show()\n",
    "ani.save('sin.gif', writer='imagemagick', fps=30)"
   ]
  },
  {
   "cell_type": "markdown",
   "metadata": {},
   "source": [
    "保存图像的话，直接save方法即可，指定好 写入工具（writer） 就好\n",
    "\n",
    "    ani.save('sin.gif', writer='imagemagick', fps=30)"
   ]
  },
  {
   "cell_type": "code",
   "execution_count": null,
   "metadata": {},
   "outputs": [],
   "source": []
  }
 ],
 "metadata": {
  "kernelspec": {
   "display_name": "Python 3",
   "language": "python",
   "name": "python3"
  },
  "language_info": {
   "codemirror_mode": {
    "name": "ipython",
    "version": 3
   },
   "file_extension": ".py",
   "mimetype": "text/x-python",
   "name": "python",
   "nbconvert_exporter": "python",
   "pygments_lexer": "ipython3",
   "version": "3.7.6"
  }
 },
 "nbformat": 4,
 "nbformat_minor": 4
}
