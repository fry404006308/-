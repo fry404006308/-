{
 "cells": [
  {
   "cell_type": "markdown",
   "metadata": {},
   "source": [
    "# <div style=\"color:red;text-align:center;\">pandas切片操作</div>"
   ]
  },
  {
   "cell_type": "code",
   "execution_count": 1,
   "metadata": {},
   "outputs": [
    {
     "name": "stdout",
     "output_type": "stream",
     "text": [
      "    v   w   x   y   z\n",
      "A   0   1   2   3   4\n",
      "B   5   6   7   8   9\n",
      "C  10  11  12  13  14\n",
      "D  15  16  17  18  19\n"
     ]
    }
   ],
   "source": [
    "import pandas as pd\n",
    "import numpy as np\n",
    "\n",
    "data = pd.DataFrame(np.arange(20).reshape((4,5)),index=list(\"ABCD\"),columns=list(\"vwxyz\"))\n",
    "print(data)"
   ]
  },
  {
   "cell_type": "markdown",
   "metadata": {},
   "source": [
    "### 1、获取某一行的数据"
   ]
  },
  {
   "cell_type": "code",
   "execution_count": 2,
   "metadata": {},
   "outputs": [
    {
     "name": "stdout",
     "output_type": "stream",
     "text": [
      "v    5\n",
      "w    6\n",
      "x    7\n",
      "y    8\n",
      "z    9\n",
      "Name: B, dtype: int32\n"
     ]
    }
   ],
   "source": [
    "print(data.iloc[1])"
   ]
  },
  {
   "cell_type": "markdown",
   "metadata": {},
   "source": [
    "### 2、获取连续的多行数据"
   ]
  },
  {
   "cell_type": "code",
   "execution_count": 6,
   "metadata": {},
   "outputs": [
    {
     "name": "stdout",
     "output_type": "stream",
     "text": [
      "    v   w   x   y   z\n",
      "B   5   6   7   8   9\n",
      "C  10  11  12  13  14\n"
     ]
    }
   ],
   "source": [
    "print(data[1:3])"
   ]
  },
  {
   "cell_type": "code",
   "execution_count": 5,
   "metadata": {},
   "outputs": [
    {
     "name": "stdout",
     "output_type": "stream",
     "text": [
      "    v   w   x   y   z\n",
      "A   0   1   2   3   4\n",
      "B   5   6   7   8   9\n",
      "C  10  11  12  13  14\n"
     ]
    }
   ],
   "source": [
    "print(data.head(3))"
   ]
  },
  {
   "cell_type": "markdown",
   "metadata": {},
   "source": [
    "### 3、获取不连续的多行数据"
   ]
  },
  {
   "cell_type": "code",
   "execution_count": 7,
   "metadata": {},
   "outputs": [
    {
     "name": "stdout",
     "output_type": "stream",
     "text": [
      "    v   w   x   y   z\n",
      "B   5   6   7   8   9\n",
      "D  15  16  17  18  19\n"
     ]
    }
   ],
   "source": [
    "print(data.iloc[[1,3]])"
   ]
  },
  {
   "cell_type": "markdown",
   "metadata": {},
   "source": [
    "### 4、获取指定的列的数据"
   ]
  },
  {
   "cell_type": "code",
   "execution_count": 8,
   "metadata": {},
   "outputs": [
    {
     "name": "stdout",
     "output_type": "stream",
     "text": [
      "    v   z\n",
      "A   0   4\n",
      "B   5   9\n",
      "C  10  14\n",
      "D  15  19\n"
     ]
    }
   ],
   "source": [
    "print(data.loc[:,[\"v\",\"z\"]])"
   ]
  },
  {
   "cell_type": "markdown",
   "metadata": {},
   "source": [
    "### 5、获取指定的多行多列"
   ]
  },
  {
   "cell_type": "code",
   "execution_count": 9,
   "metadata": {},
   "outputs": [
    {
     "name": "stdout",
     "output_type": "stream",
     "text": [
      "   x  y\n",
      "A  2  3\n",
      "B  7  8\n"
     ]
    }
   ],
   "source": [
    "print(data.loc[[\"A\",\"B\"],[\"x\",\"y\"]])"
   ]
  },
  {
   "cell_type": "markdown",
   "metadata": {},
   "source": [
    "###  6、获取列上某些大于或者小于特定的数"
   ]
  },
  {
   "cell_type": "code",
   "execution_count": 10,
   "metadata": {},
   "outputs": [
    {
     "name": "stdout",
     "output_type": "stream",
     "text": [
      "    v   w   x   y   z\n",
      "C  10  11  12  13  14\n",
      "D  15  16  17  18  19\n"
     ]
    }
   ],
   "source": [
    "print(data[data['v']>5])"
   ]
  },
  {
   "cell_type": "markdown",
   "metadata": {},
   "source": [
    "### 7、为某一列的特定的数据赋值"
   ]
  },
  {
   "cell_type": "code",
   "execution_count": 13,
   "metadata": {},
   "outputs": [
    {
     "name": "stdout",
     "output_type": "stream",
     "text": [
      "    v   w   x   y   z\n",
      "A   5   5   5   5   5\n",
      "B   5   6   7   8   9\n",
      "C  10  11  12  13  14\n",
      "D  15  16  17  18  19\n"
     ]
    }
   ],
   "source": [
    "data[data[\"v\"]<5] = 5\n",
    "print(data)"
   ]
  },
  {
   "cell_type": "markdown",
   "metadata": {},
   "source": [
    "### 8、求出某一列上的数据是否满足特定的要求"
   ]
  },
  {
   "cell_type": "code",
   "execution_count": 14,
   "metadata": {},
   "outputs": [
    {
     "name": "stdout",
     "output_type": "stream",
     "text": [
      "    v   w   x   y   z\n",
      "A   5   5   5   5   5\n",
      "B   5   6   7   8   9\n",
      "D  15  16  17  18  19\n"
     ]
    }
   ],
   "source": [
    "print(data[data[\"v\"].isin([5,15])])"
   ]
  },
  {
   "cell_type": "code",
   "execution_count": null,
   "metadata": {},
   "outputs": [],
   "source": []
  }
 ],
 "metadata": {
  "kernelspec": {
   "display_name": "Python 3",
   "language": "python",
   "name": "python3"
  },
  "language_info": {
   "codemirror_mode": {
    "name": "ipython",
    "version": 3
   },
   "file_extension": ".py",
   "mimetype": "text/x-python",
   "name": "python",
   "nbconvert_exporter": "python",
   "pygments_lexer": "ipython3",
   "version": "3.7.6"
  }
 },
 "nbformat": 4,
 "nbformat_minor": 4
}
