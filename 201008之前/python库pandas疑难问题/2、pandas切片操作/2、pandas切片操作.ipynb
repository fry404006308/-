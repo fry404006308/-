{
 "cells": [
  {
   "cell_type": "markdown",
   "metadata": {},
   "source": [
    "# <div style=\"color:red;text-align:center;\">pandas切片操作</div>"
   ]
  },
  {
   "cell_type": "markdown",
   "metadata": {},
   "source": [
    "pandas的iloc方法可以用来切片，iloc方法具体使用细节和Python切片操作以及NumPy切片操作几乎一样\n",
    "\n",
    "pandas切片方法除了iloc（index+location）外，还有loc（location），这个后面会讲到的"
   ]
  },
  {
   "cell_type": "markdown",
   "metadata": {},
   "source": [
    "iloc方法基本结构：\n",
    "\n",
    "    iloc[start_index:end_index:step,start_index:end_index:step]\n",
    "    逗号前面的start_index:end_index:step表示操作行，逗号后面的表示操作列"
   ]
  },
  {
   "cell_type": "markdown",
   "metadata": {},
   "source": [
    "![11.png](11.png)"
   ]
  },
  {
   "cell_type": "code",
   "execution_count": 1,
   "metadata": {},
   "outputs": [
    {
     "name": "stdout",
     "output_type": "stream",
     "text": [
      "    v   w   x   y   z\n",
      "A   0   1   2   3   4\n",
      "B   5   6   7   8   9\n",
      "C  10  11  12  13  14\n",
      "D  15  16  17  18  19\n"
     ]
    }
   ],
   "source": [
    "import pandas as pd\n",
    "import numpy as np\n",
    "\n",
    "data = pd.DataFrame(np.arange(20).reshape((4,5)),index=list(\"ABCD\"),columns=list(\"vwxyz\"))\n",
    "print(data)"
   ]
  },
  {
   "cell_type": "markdown",
   "metadata": {},
   "source": [
    "### 1、读取单个值"
   ]
  },
  {
   "cell_type": "code",
   "execution_count": 2,
   "metadata": {},
   "outputs": [
    {
     "name": "stdout",
     "output_type": "stream",
     "text": [
      "v    15\n",
      "w    16\n",
      "x    17\n",
      "y    18\n",
      "z    19\n",
      "Name: D, dtype: int32\n"
     ]
    }
   ],
   "source": [
    "print(data.iloc[3])"
   ]
  },
  {
   "cell_type": "code",
   "execution_count": 3,
   "metadata": {},
   "outputs": [
    {
     "name": "stdout",
     "output_type": "stream",
     "text": [
      "v    5\n",
      "w    6\n",
      "x    7\n",
      "y    8\n",
      "z    9\n",
      "Name: B, dtype: int32\n"
     ]
    }
   ],
   "source": [
    "print(data.iloc[-3])"
   ]
  },
  {
   "cell_type": "code",
   "execution_count": 4,
   "metadata": {},
   "outputs": [
    {
     "name": "stdout",
     "output_type": "stream",
     "text": [
      "13\n"
     ]
    }
   ],
   "source": [
    "print(data.iloc[2,3])"
   ]
  },
  {
   "cell_type": "code",
   "execution_count": 5,
   "metadata": {},
   "outputs": [
    {
     "name": "stdout",
     "output_type": "stream",
     "text": [
      "12\n"
     ]
    }
   ],
   "source": [
    "print(data.iloc[-2,-3])"
   ]
  },
  {
   "cell_type": "markdown",
   "metadata": {},
   "source": [
    "### 2、读取行"
   ]
  },
  {
   "cell_type": "code",
   "execution_count": 6,
   "metadata": {},
   "outputs": [
    {
     "name": "stdout",
     "output_type": "stream",
     "text": [
      "    v   w   x   y   z\n",
      "C  10  11  12  13  14\n",
      "B   5   6   7   8   9\n",
      "A   0   1   2   3   4\n"
     ]
    }
   ],
   "source": [
    "print(data.iloc[2::-1])"
   ]
  },
  {
   "cell_type": "code",
   "execution_count": 7,
   "metadata": {},
   "outputs": [
    {
     "name": "stdout",
     "output_type": "stream",
     "text": [
      "    v   w   x   y   z\n",
      "A   0   1   2   3   4\n",
      "C  10  11  12  13  14\n"
     ]
    }
   ],
   "source": [
    "print(data.iloc[:3:2])"
   ]
  },
  {
   "cell_type": "markdown",
   "metadata": {},
   "source": [
    "### 3、读取行和列"
   ]
  },
  {
   "cell_type": "code",
   "execution_count": 8,
   "metadata": {},
   "outputs": [
    {
     "name": "stdout",
     "output_type": "stream",
     "text": [
      "    z   y\n",
      "C  14  13\n",
      "B   9   8\n",
      "A   4   3\n"
     ]
    }
   ],
   "source": [
    "print(data.iloc[2::-1,-1:-3:-1])"
   ]
  },
  {
   "cell_type": "code",
   "execution_count": 9,
   "metadata": {},
   "outputs": [
    {
     "name": "stdout",
     "output_type": "stream",
     "text": [
      "   w  x  y\n",
      "A  1  2  3\n",
      "B  6  7  8\n"
     ]
    }
   ],
   "source": [
    "print(data.iloc[:2,1:-1])"
   ]
  },
  {
   "cell_type": "markdown",
   "metadata": {},
   "source": [
    "**不连续行列**"
   ]
  },
  {
   "cell_type": "code",
   "execution_count": 10,
   "metadata": {},
   "outputs": [
    {
     "name": "stdout",
     "output_type": "stream",
     "text": [
      "    w   y\n",
      "B   6   8\n",
      "D  16  18\n"
     ]
    }
   ],
   "source": [
    "print(data.iloc[[1,3],[1,3]])"
   ]
  },
  {
   "cell_type": "markdown",
   "metadata": {},
   "source": [
    "### 4、其它方式"
   ]
  },
  {
   "cell_type": "markdown",
   "metadata": {},
   "source": [
    "**列**"
   ]
  },
  {
   "cell_type": "code",
   "execution_count": 11,
   "metadata": {},
   "outputs": [
    {
     "name": "stdout",
     "output_type": "stream",
     "text": [
      "A     2\n",
      "B     7\n",
      "C    12\n",
      "D    17\n",
      "Name: x, dtype: int32\n"
     ]
    }
   ],
   "source": [
    "print(data[\"x\"])"
   ]
  },
  {
   "cell_type": "code",
   "execution_count": 12,
   "metadata": {},
   "outputs": [
    {
     "name": "stdout",
     "output_type": "stream",
     "text": [
      "A     2\n",
      "B     7\n",
      "C    12\n",
      "D    17\n",
      "Name: x, dtype: int32\n"
     ]
    }
   ],
   "source": [
    "print(data.x)"
   ]
  },
  {
   "cell_type": "code",
   "execution_count": null,
   "metadata": {},
   "outputs": [],
   "source": []
  }
 ],
 "metadata": {
  "kernelspec": {
   "display_name": "Python 3",
   "language": "python",
   "name": "python3"
  },
  "language_info": {
   "codemirror_mode": {
    "name": "ipython",
    "version": 3
   },
   "file_extension": ".py",
   "mimetype": "text/x-python",
   "name": "python",
   "nbconvert_exporter": "python",
   "pygments_lexer": "ipython3",
   "version": "3.7.6"
  }
 },
 "nbformat": 4,
 "nbformat_minor": 4
}
