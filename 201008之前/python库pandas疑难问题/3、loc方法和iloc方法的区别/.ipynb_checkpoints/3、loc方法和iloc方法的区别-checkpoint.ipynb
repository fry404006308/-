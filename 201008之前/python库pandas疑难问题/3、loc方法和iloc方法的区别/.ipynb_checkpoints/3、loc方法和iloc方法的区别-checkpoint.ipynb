{
 "cells": [
  {
   "cell_type": "markdown",
   "metadata": {},
   "source": [
    "# <div style=\"color:red;text-align:center;\">loc方法和iloc方法的区别</div>"
   ]
  },
  {
   "cell_type": "markdown",
   "metadata": {},
   "source": [
    "loc方法是基于标签的，iloc方法是基于整数索引的"
   ]
  },
  {
   "cell_type": "markdown",
   "metadata": {},
   "source": [
    "loc is label-based, which means that you have to specify rows and columns based on their row and column labels. \n",
    "\n",
    "iloc is integer index based, so you have to specify rows and columns by their integer index like you did in the previous exercise."
   ]
  },
  {
   "cell_type": "markdown",
   "metadata": {},
   "source": [
    "![11.png](11.png)"
   ]
  },
  {
   "cell_type": "code",
   "execution_count": 1,
   "metadata": {},
   "outputs": [
    {
     "name": "stdout",
     "output_type": "stream",
     "text": [
      "    v   w   x   y   z\n",
      "A   0   1   2   3   4\n",
      "B   5   6   7   8   9\n",
      "C  10  11  12  13  14\n",
      "D  15  16  17  18  19\n"
     ]
    }
   ],
   "source": [
    "import pandas as pd\n",
    "import numpy as np\n",
    "\n",
    "data = pd.DataFrame(np.arange(20).reshape((4,5)),index=list(\"ABCD\"),columns=list(\"vwxyz\"))\n",
    "print(data)"
   ]
  },
  {
   "cell_type": "markdown",
   "metadata": {},
   "source": [
    "### 1、iloc方法"
   ]
  },
  {
   "cell_type": "code",
   "execution_count": 2,
   "metadata": {},
   "outputs": [
    {
     "name": "stdout",
     "output_type": "stream",
     "text": [
      "    w   x\n",
      "B   6   7\n",
      "C  11  12\n"
     ]
    }
   ],
   "source": [
    "# 连续切片\n",
    "print(data.iloc[1:3:1,1:3])"
   ]
  },
  {
   "cell_type": "code",
   "execution_count": 3,
   "metadata": {},
   "outputs": [
    {
     "name": "stdout",
     "output_type": "stream",
     "text": [
      "    w   y\n",
      "B   6   8\n",
      "D  16  18\n"
     ]
    }
   ],
   "source": [
    "# 不连续\n",
    "print(data.iloc[[1,3],[1,3]])"
   ]
  },
  {
   "cell_type": "markdown",
   "metadata": {},
   "source": [
    "### 2、loc方法"
   ]
  },
  {
   "cell_type": "code",
   "execution_count": 4,
   "metadata": {
    "scrolled": false
   },
   "outputs": [
    {
     "name": "stdout",
     "output_type": "stream",
     "text": [
      "    w   x   y\n",
      "A   1   2   3\n",
      "B   6   7   8\n",
      "C  11  12  13\n"
     ]
    }
   ],
   "source": [
    "# 连续\n",
    "print(data.loc[\"A\":\"C\",\"w\":\"y\"])"
   ]
  },
  {
   "cell_type": "code",
   "execution_count": 5,
   "metadata": {
    "scrolled": true
   },
   "outputs": [
    {
     "name": "stdout",
     "output_type": "stream",
     "text": [
      "    z   y   x   w   v\n",
      "A   4   3   2   1   0\n",
      "C  14  13  12  11  10\n"
     ]
    }
   ],
   "source": [
    "print(data.loc[\"A\":\"D\":2,\"z\":\"v\":-1])"
   ]
  },
  {
   "cell_type": "code",
   "execution_count": 6,
   "metadata": {},
   "outputs": [
    {
     "name": "stdout",
     "output_type": "stream",
     "text": [
      "    w   y\n",
      "A   1   3\n",
      "C  11  13\n"
     ]
    }
   ],
   "source": [
    "# 不连续\n",
    "print(data.loc[[\"A\",\"C\"],[\"w\",\"y\"]])"
   ]
  },
  {
   "cell_type": "markdown",
   "metadata": {},
   "source": [
    "需要注意的是：\n",
    "\n",
    "在iloc使用索引定位的时候，因为是索引，所以，会按照索引的规则取值，如：[1:3] 会取出 1,2 这2个值。\n",
    "\n",
    "但是loc按照label标签取值则不是这样的。如：[\"A\":\"C\"] A,B,C 都会取出来。"
   ]
  },
  {
   "cell_type": "code",
   "execution_count": null,
   "metadata": {},
   "outputs": [],
   "source": []
  }
 ],
 "metadata": {
  "kernelspec": {
   "display_name": "Python 3",
   "language": "python",
   "name": "python3"
  },
  "language_info": {
   "codemirror_mode": {
    "name": "ipython",
    "version": 3
   },
   "file_extension": ".py",
   "mimetype": "text/x-python",
   "name": "python",
   "nbconvert_exporter": "python",
   "pygments_lexer": "ipython3",
   "version": "3.7.6"
  }
 },
 "nbformat": 4,
 "nbformat_minor": 4
}
