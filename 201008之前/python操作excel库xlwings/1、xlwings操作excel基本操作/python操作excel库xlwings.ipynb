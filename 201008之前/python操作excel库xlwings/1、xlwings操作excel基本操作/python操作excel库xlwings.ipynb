{
 "cells": [
  {
   "cell_type": "markdown",
   "metadata": {},
   "source": [
    "# <div style=\"color:red;text-align:center;\">python操作excel库xlwings</div>"
   ]
  },
  {
   "cell_type": "markdown",
   "metadata": {},
   "source": [
    "## 一、课程介绍"
   ]
  },
  {
   "cell_type": "markdown",
   "metadata": {},
   "source": [
    "**课程介绍**\n",
    "\n",
    "这个课程就是讲解python操作excel库xlwings，\n",
    "\n",
    "讲课内容，就讲一些比较常用的操作，\n",
    "\n",
    "这些常用的操作可以满足日常80-90%的需求了，\n",
    "\n",
    "不常用的操作，大家需要的时候自己去查查手册即可\n",
    "\n",
    "官网文档：https://docs.xlwings.org/en/stable/\n",
    "\n",
    "我们先讲一些xlwings常用知识，再讲1-2个具体处理数据的实例，大家通过实例，就能有一个非常深刻的理解\n",
    "\n",
    "---\n",
    "\n",
    "**xlwings介绍**\n",
    "\n",
    "xlwings 是 Python 中操作Excel 的一个第三方库，\n",
    "\n",
    "支持.xls读写，.xlsx读写\n",
    "\n",
    "操作非常简单，功能也很强大\n",
    "\n",
    "---\n",
    "**python操作excel第三方库统计**\n",
    "\n",
    "![python操作excel第三方库统计](2.png)\n",
    "\n",
    "\n",
    "---\n",
    "\n",
    "**xlwings的操作逻辑**\n",
    "\n",
    "![xlwings的操作逻辑](1.png)\n",
    "\n",
    "应用->工作簿->工作表->范围\n",
    "\n",
    "- 应用：一个应用（一个xlwings程序）\n",
    "- 工作簿（book）\n",
    "- 工作表（sheet）\n",
    "- 范围：行列\n",
    "\n",
    "---\n",
    "\n",
    "**xlwings安装和引入**\n",
    "\n",
    "1、安装库\n",
    "\n",
    "pip install xlwings\n",
    "\n",
    "2、引入库\n",
    "\n",
    "import xlwings as xw\n"
   ]
  },
  {
   "cell_type": "markdown",
   "metadata": {},
   "source": [
    "## 二、写入excel基本操作"
   ]
  },
  {
   "cell_type": "code",
   "execution_count": 4,
   "metadata": {},
   "outputs": [],
   "source": [
    "import xlwings as xw\n",
    "# 应用->工作簿->工作表->范围\n",
    "# 应用\n",
    "# visible用于设置xlwings操作excel的过程是否显示，默认True表示显示\n",
    "# add_book表示xlwings操作excel的时候是否新增一个excel文件，默认是true\n",
    "app = xw.App(visible=True,add_book=False)\n",
    "# 工作簿\n",
    "wb = app.books.add()\n",
    "# 工作表\n",
    "sht = wb.sheets[\"sheet1\"]\n",
    "# 范围\n",
    "sht.range(\"a2\").value=\"饭某某111\"\n",
    "# 保存excel\n",
    "wb.save(\"demo2.xlsx\")\n",
    "# 关闭excel程序\n",
    "wb.close()\n",
    "app.quit()"
   ]
  },
  {
   "cell_type": "markdown",
   "metadata": {},
   "source": [
    "## 三、写入excel常见操作"
   ]
  },
  {
   "cell_type": "code",
   "execution_count": 1,
   "metadata": {},
   "outputs": [],
   "source": [
    "import xlwings as xw\n",
    "# 应用->工作簿->工作表->范围\n",
    "# 应用\n",
    "app = xw.App(visible=True,add_book=False)\n",
    "# 工作簿\n",
    "wb = app.books.add()\n",
    "# 工作表\n",
    "sht = wb.sheets[\"sheet1\"]\n",
    "# 范围\n",
    "sht.range(\"a2\").value=\"饭某某111\"\n",
    "# 保存excel\n",
    "wb.save(\"demo3.xlsx\")\n"
   ]
  },
  {
   "cell_type": "code",
   "execution_count": 2,
   "metadata": {},
   "outputs": [],
   "source": [
    "# 指定单元格来写入\n",
    "sht.range(\"b3\").value=\"b3\""
   ]
  },
  {
   "cell_type": "code",
   "execution_count": 3,
   "metadata": {},
   "outputs": [],
   "source": [
    "# 直接写一行\n",
    "# sht.range(\"c4\").value=[1,2,3,4]\n",
    "# 等效于\n",
    "sht.range(\"c4:f4\").value=[5,6,7,8]"
   ]
  },
  {
   "cell_type": "code",
   "execution_count": 4,
   "metadata": {},
   "outputs": [],
   "source": [
    "# 插入一列\n",
    "# 这样不行，因为默认是横着插入\n",
    "# sht.range(\"b6:b9\").value=[5,6,7,8]\n",
    "sht.range(\"b7\").options(transpose=True).value=[5,6,7,8]"
   ]
  },
  {
   "cell_type": "code",
   "execution_count": 5,
   "metadata": {},
   "outputs": [],
   "source": [
    "# 插入行列\n",
    "sht.range(\"c12\").value=[[1,2],[3,4]]"
   ]
  },
  {
   "cell_type": "code",
   "execution_count": 6,
   "metadata": {},
   "outputs": [],
   "source": [
    "# 关闭excel程序\n",
    "wb.save()\n",
    "wb.close()\n",
    "app.quit()"
   ]
  },
  {
   "cell_type": "markdown",
   "metadata": {},
   "source": [
    "## 四 、读excel基本操作\n"
   ]
  },
  {
   "cell_type": "markdown",
   "metadata": {},
   "source": [
    "读excel的基本操作和写的一样，都是按照xlwings对应的逻辑：应用->工作簿->工作表->范围 一步步操作即可，只不过读的时候工作簿不是增加而是打开的，所以是open方法：app.books.open(\"demo3.xlsx\")"
   ]
  },
  {
   "cell_type": "code",
   "execution_count": 7,
   "metadata": {},
   "outputs": [
    {
     "name": "stdout",
     "output_type": "stream",
     "text": [
      "饭某某111\n"
     ]
    }
   ],
   "source": [
    "import xlwings as xw\n",
    "# 应用->工作簿->工作表->范围\n",
    "# 应用\n",
    "app = xw.App(visible=True,add_book=False)\n",
    "# 工作簿\n",
    "wb = app.books.open(\"demo3.xlsx\")\n",
    "# 工作表\n",
    "sht = wb.sheets[\"sheet1\"]\n",
    "# 范围\n",
    "print(sht.range(\"a2\").value)\n",
    "# 保存excel\n",
    "wb.save()\n",
    "# 关闭excel程序\n",
    "wb.close()\n",
    "app.quit()"
   ]
  },
  {
   "cell_type": "markdown",
   "metadata": {},
   "source": [
    "## 五、读excel常用方式"
   ]
  },
  {
   "cell_type": "markdown",
   "metadata": {},
   "source": [
    "读excel的方式非常简单，无论是读某个单元格，还是读行读列，以及读范围，都是sht.range(\"c12:d13\").value 这个方法，在range里面指定好读取的范围即可"
   ]
  },
  {
   "cell_type": "code",
   "execution_count": 1,
   "metadata": {},
   "outputs": [],
   "source": [
    "import xlwings as xw\n",
    "# 应用->工作簿->工作表->范围\n",
    "# 应用\n",
    "app = xw.App(visible=True,add_book=False)\n",
    "# 工作簿\n",
    "wb = app.books.open(\"demo3.xlsx\")\n",
    "# 工作表\n",
    "sht = wb.sheets[\"sheet1\"]"
   ]
  },
  {
   "cell_type": "code",
   "execution_count": 2,
   "metadata": {},
   "outputs": [
    {
     "name": "stdout",
     "output_type": "stream",
     "text": [
      "b3\n"
     ]
    }
   ],
   "source": [
    "# 1、读取某个位置的值\n",
    "print(sht.range(\"b3\").value)"
   ]
  },
  {
   "cell_type": "code",
   "execution_count": 3,
   "metadata": {},
   "outputs": [
    {
     "name": "stdout",
     "output_type": "stream",
     "text": [
      "[5.0, 6.0, 7.0, 8.0]\n"
     ]
    }
   ],
   "source": [
    "# 2、读一行\n",
    "print(sht.range(\"c4:f4\").value)"
   ]
  },
  {
   "cell_type": "code",
   "execution_count": 4,
   "metadata": {},
   "outputs": [
    {
     "name": "stdout",
     "output_type": "stream",
     "text": [
      "[5.0, 6.0, 7.0, 8.0]\n"
     ]
    }
   ],
   "source": [
    "# 3、读一列\n",
    "print(sht.range(\"b7:b10\").value)"
   ]
  },
  {
   "cell_type": "code",
   "execution_count": 5,
   "metadata": {},
   "outputs": [
    {
     "name": "stdout",
     "output_type": "stream",
     "text": [
      "[[1.0, 2.0], [3.0, 4.0]]\n"
     ]
    }
   ],
   "source": [
    "# 4、读一个范围（读行列）\n",
    "print(sht.range(\"c12:d13\").value)"
   ]
  },
  {
   "cell_type": "code",
   "execution_count": 6,
   "metadata": {},
   "outputs": [],
   "source": [
    "# 保存excel\n",
    "wb.save()\n",
    "# 关闭excel程序\n",
    "wb.close()\n",
    "app.quit()"
   ]
  },
  {
   "cell_type": "code",
   "execution_count": null,
   "metadata": {},
   "outputs": [],
   "source": []
  }
 ],
 "metadata": {
  "kernelspec": {
   "display_name": "Python 3",
   "language": "python",
   "name": "python3"
  },
  "language_info": {
   "codemirror_mode": {
    "name": "ipython",
    "version": 3
   },
   "file_extension": ".py",
   "mimetype": "text/x-python",
   "name": "python",
   "nbconvert_exporter": "python",
   "pygments_lexer": "ipython3",
   "version": "3.7.6"
  }
 },
 "nbformat": 4,
 "nbformat_minor": 4
}
