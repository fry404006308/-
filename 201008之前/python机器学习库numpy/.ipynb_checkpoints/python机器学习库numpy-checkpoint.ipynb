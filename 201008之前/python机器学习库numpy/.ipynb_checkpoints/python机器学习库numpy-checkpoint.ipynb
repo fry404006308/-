{
 "cells": [
  {
   "cell_type": "markdown",
   "metadata": {},
   "source": [
    "# <div style=\"color:red;text-align:center;\">python机器学习库numpy</div>"
   ]
  },
  {
   "cell_type": "markdown",
   "metadata": {},
   "source": [
    "### 一、课程介绍"
   ]
  },
  {
   "cell_type": "markdown",
   "metadata": {},
   "source": [
    "numpy是机器学习中经常用到的库，本课程讲解numpy库里面非常常用的操作，不常用的操作大家需要的时候直接查手册即可。不常用的操作讲多了增加大家的记忆负担。\n",
    "\n",
    "本课程分为两个部分，第一部分是基础知识部分，第二部分是一些简单的numpy在机器学习中的使用的实例，通过实例，我们可以更好的掌握numpy。\n"
   ]
  },
  {
   "cell_type": "markdown",
   "metadata": {},
   "source": [
    "### 二、numpy介绍"
   ]
  },
  {
   "cell_type": "markdown",
   "metadata": {},
   "source": [
    "**numpy库是做什么的**\n",
    "\n",
    "NumPy是使用Python进行科学计算的基础软件包。\n",
    "\n",
    "Numpy主要用于大数据量的同构数组处理，以及数组操作函数、科学计算函数和线性代数等\n",
    "\n",
    "---\n",
    "\n",
    "**numpy库核心**\n",
    "\n",
    "numpy的结构是同构的ndarray\n",
    "\n",
    "---\n",
    "\n",
    "**numpy库和pandas库的关系**\n",
    "\n",
    "    NumPy：大数据量的同构数组处理，以及复杂函数和线性代数等\n",
    "    Pandas：处理非纯粹的、混杂数组\n",
    "\n",
    "虽然NumPy有着种种出色的特性，其本身则难以独支数据分析这座大厦，这是一方面是由于NumPy几乎仅专注于数组处理，\n",
    "另一方面则是数据分析牵涉到的数据特性众多，需要处理各种表格和混杂数据，远非纯粹的数组（NumPy）方便解决的，而这就是pandas发力的地方。\n",
    "\n",
    "---\n",
    "\n",
    "**NumPy在大数组的数据处理方面进行的优化？**\n",
    "\n",
    "+ 【连续的内存块】：NumPy是在一个连续的内存块中存储数据，独立于其他Python内置对象，如此便可以加速数据索引的速度。\n",
    "+ 【调用大量c语言算法库】：NumPy调用了大量的用C语言编写的算法库，使得其可以直接操作内存，不必进行Python动态语言特性所含有的前期类型检查工作，从而大大提高了运算速度。\n",
    "+ 【整数组直接计算】：NumPy可以在整个数组上执行复杂的计算，能够大幅提高运算效率（基于NumPy的算法要比纯Python快10到100倍，甚至会快更多）。\n",
    "\n",
    "---\n",
    "\n",
    "**上百G的数据如何处理**\n",
    "\n",
    "Python处理几个G的数据绰绰有余，至于几十G也勉强可以，而上百G的数据这就算是Hadoop与Spark系列的任务，不是Python的NumPy与pandas可以应付的，也不是R语言某个第三方包可以处理的。\n",
    "\n",
    "\n",
    "---\n",
    "\n",
    "**NumPy数组 和 原生Python List（列表）之间有几个重要的区别**\n",
    "\n",
    "+ 【numpy固定大小】：NumPy 数组在创建时具有固定的大小，与Python的原生数组对象（可以动态增长）不同。更改ndarray的大小将创建一个新数组并删除原来的数组。\n",
    "+ 【numpy同构】：NumPy 数组中的元素都需要具有相同的数据类型，因此在内存中的大小相同。\n",
    "+ 【numpy更适合于科学计算】：NumPy 数组有助于对大量数据进行高级数学和其他类型的操作。通常，这些操作的执行效率更高，比使用Python原生数组的代码更少。\n",
    "+ 【numpy使用广泛】：越来越多的基于Python的科学和数学软件包使用NumPy数组; 虽然这些工具通常都支持Python的原生数组作为参数，但它们在处理之前会还是会将输入的数组转换为NumPy的数组，而且也通常输出为NumPy数组。\n",
    "\n",
    "---\n",
    "\n"
   ]
  },
  {
   "cell_type": "markdown",
   "metadata": {},
   "source": [
    "### 3、numpy的安装及引入"
   ]
  },
  {
   "cell_type": "code",
   "execution_count": 1,
   "metadata": {},
   "outputs": [],
   "source": [
    "# 安装库\n",
    "# pip install numpy\n",
    "# 查看安装的库\n",
    "# pip list\n",
    "\n",
    "# 引入库\n",
    "import numpy as np"
   ]
  },
  {
   "cell_type": "markdown",
   "metadata": {},
   "source": [
    "### 4.1、n维数组的创建（array方法）"
   ]
  },
  {
   "cell_type": "code",
   "execution_count": 3,
   "metadata": {},
   "outputs": [
    {
     "name": "stdout",
     "output_type": "stream",
     "text": [
      "[[1 2]\n",
      " [3 4]]\n",
      "<class 'numpy.ndarray'>\n"
     ]
    }
   ],
   "source": [
    "# numpy的核心就是同构的n维数组，所以可以用numpy的array方法来创建n维数组\n",
    "arr = np.array([[1,2],[3,4]])\n",
    "print(arr)\n",
    "print(type(arr))"
   ]
  },
  {
   "cell_type": "code",
   "execution_count": 5,
   "metadata": {},
   "outputs": [
    {
     "name": "stdout",
     "output_type": "stream",
     "text": [
      "[1, 1.2, True, 'abc']\n",
      "<class 'list'>\n",
      "['1' '1.2' 'True' 'abc']\n",
      "<class 'numpy.ndarray'>\n"
     ]
    }
   ],
   "source": [
    "# 同构和异构\n",
    "list1 = [1,1.2,True,'abc']\n",
    "print(list1)\n",
    "print(type(list1))\n",
    "# 在numpy中\n",
    "arr2 = np.array(list1)\n",
    "print(arr2)\n",
    "print(type(arr2))"
   ]
  },
  {
   "cell_type": "markdown",
   "metadata": {},
   "source": [
    "### 4.2、n维数组的创建（其它常用方法）"
   ]
  },
  {
   "cell_type": "markdown",
   "metadata": {},
   "source": [
    "**a、arange方法**\n",
    "\n",
    "为了创建数字组成的数组，NumPy提供了一个类似于python中的range的函数arange。\n"
   ]
  },
  {
   "cell_type": "code",
   "execution_count": 3,
   "metadata": {},
   "outputs": [
    {
     "name": "stdout",
     "output_type": "stream",
     "text": [
      "0\n",
      "1\n",
      "2\n",
      "3\n",
      "4\n",
      "5\n",
      "[0, 1, 2, 3, 4, 5]\n"
     ]
    }
   ],
   "source": [
    "for i in range(0,6):\n",
    "    print(i)\n",
    "print(list(range(0,6)))"
   ]
  },
  {
   "cell_type": "code",
   "execution_count": 6,
   "metadata": {},
   "outputs": [
    {
     "name": "stdout",
     "output_type": "stream",
     "text": [
      "[0 1 2 3 4 5]\n",
      "[10 11 12 13 14 15 16 17 18 19]\n",
      "[10 13 16 19]\n"
     ]
    }
   ],
   "source": [
    "arr=np.arange(6)\n",
    "print(arr)\n",
    "# 指定起始位置和终止位置\n",
    "arr=np.arange(10,20)\n",
    "print(arr)\n",
    "# 指定步长\n",
    "arr=np.arange(10,20,3)\n",
    "print(arr)"
   ]
  },
  {
   "cell_type": "code",
   "execution_count": 8,
   "metadata": {},
   "outputs": [
    {
     "name": "stdout",
     "output_type": "stream",
     "text": [
      "[[0 1 2]\n",
      " [3 4 5]]\n",
      "[[0 1]\n",
      " [2 3]\n",
      " [4 5]]\n"
     ]
    }
   ],
   "source": [
    "# reshape：改变数组的维度\n",
    "arr=np.arange(6).reshape((2,3))\n",
    "print(arr)\n",
    "arr=np.arange(6).reshape((3,2))\n",
    "print(arr)"
   ]
  },
  {
   "cell_type": "markdown",
   "metadata": {},
   "source": [
    "**b、等差数列：linspace方法**\n",
    "\n",
    "line space\n"
   ]
  },
  {
   "cell_type": "code",
   "execution_count": 9,
   "metadata": {},
   "outputs": [
    {
     "name": "stdout",
     "output_type": "stream",
     "text": [
      "[ 1.    3.25  5.5   7.75 10.  ]\n"
     ]
    }
   ],
   "source": [
    "# 参数：起始位置，终止位置，元素个数\n",
    "arr=np.linspace(1,10,5)\n",
    "print(arr)"
   ]
  },
  {
   "cell_type": "markdown",
   "metadata": {},
   "source": [
    "**c、等比数列：logspace**\n",
    "\n",
    "log space :对数刻度均匀分布"
   ]
  },
  {
   "cell_type": "code",
   "execution_count": 12,
   "metadata": {
    "scrolled": true
   },
   "outputs": [
    {
     "name": "stdout",
     "output_type": "stream",
     "text": [
      "[  10.           31.6227766   100.          316.22776602 1000.        ]\n",
      "[  10.  100. 1000.]\n"
     ]
    }
   ],
   "source": [
    "# 参数：起始位置，终止位置，元素个数\n",
    "# 比如这个3，表示的是10的3次方，1000\n",
    "arr=np.logspace(1,3,5)\n",
    "print(arr)\n",
    "arr=np.logspace(1,3,3)\n",
    "print(arr)"
   ]
  },
  {
   "cell_type": "markdown",
   "metadata": {},
   "source": [
    "### 4.3、n维数组的创建（特殊数组）"
   ]
  },
  {
   "cell_type": "markdown",
   "metadata": {},
   "source": [
    "numpy中常用的特殊矩阵 主要有ones（全1）、zeros（全0）、eye（单位矩阵）、empty（未初始化）"
   ]
  },
  {
   "cell_type": "code",
   "execution_count": 2,
   "metadata": {},
   "outputs": [
    {
     "name": "stdout",
     "output_type": "stream",
     "text": [
      "[[1. 1. 1.]\n",
      " [1. 1. 1.]]\n"
     ]
    }
   ],
   "source": [
    "# 需要一个表示矩阵维度的元组做参数\n",
    "arr=np.ones((2,3))\n",
    "print(arr)"
   ]
  },
  {
   "cell_type": "code",
   "execution_count": 4,
   "metadata": {},
   "outputs": [
    {
     "name": "stdout",
     "output_type": "stream",
     "text": [
      "[[0. 0.]\n",
      " [0. 0.]\n",
      " [0. 0.]]\n"
     ]
    }
   ],
   "source": [
    "arr=np.zeros((3,2))\n",
    "print(arr)"
   ]
  },
  {
   "cell_type": "code",
   "execution_count": 5,
   "metadata": {},
   "outputs": [
    {
     "name": "stdout",
     "output_type": "stream",
     "text": [
      "[[1. 0. 0.]\n",
      " [0. 1. 0.]\n",
      " [0. 0. 1.]]\n"
     ]
    }
   ],
   "source": [
    "arr=np.eye(3)\n",
    "print(arr)"
   ]
  },
  {
   "cell_type": "code",
   "execution_count": 6,
   "metadata": {},
   "outputs": [
    {
     "name": "stdout",
     "output_type": "stream",
     "text": [
      "Help on function eye in module numpy:\n",
      "\n",
      "eye(N, M=None, k=0, dtype=<class 'float'>, order='C')\n",
      "    Return a 2-D array with ones on the diagonal and zeros elsewhere.\n",
      "    \n",
      "    Parameters\n",
      "    ----------\n",
      "    N : int\n",
      "      Number of rows in the output.\n",
      "    M : int, optional\n",
      "      Number of columns in the output. If None, defaults to `N`.\n",
      "    k : int, optional\n",
      "      Index of the diagonal: 0 (the default) refers to the main diagonal,\n",
      "      a positive value refers to an upper diagonal, and a negative value\n",
      "      to a lower diagonal.\n",
      "    dtype : data-type, optional\n",
      "      Data-type of the returned array.\n",
      "    order : {'C', 'F'}, optional\n",
      "        Whether the output should be stored in row-major (C-style) or\n",
      "        column-major (Fortran-style) order in memory.\n",
      "    \n",
      "        .. versionadded:: 1.14.0\n",
      "    \n",
      "    Returns\n",
      "    -------\n",
      "    I : ndarray of shape (N,M)\n",
      "      An array where all elements are equal to zero, except for the `k`-th\n",
      "      diagonal, whose values are equal to one.\n",
      "    \n",
      "    See Also\n",
      "    --------\n",
      "    identity : (almost) equivalent function\n",
      "    diag : diagonal 2-D array from a 1-D array specified by the user.\n",
      "    \n",
      "    Examples\n",
      "    --------\n",
      "    >>> np.eye(2, dtype=int)\n",
      "    array([[1, 0],\n",
      "           [0, 1]])\n",
      "    >>> np.eye(3, k=1)\n",
      "    array([[0.,  1.,  0.],\n",
      "           [0.,  0.,  1.],\n",
      "           [0.,  0.,  0.]])\n",
      "\n"
     ]
    }
   ],
   "source": [
    "help(np.eye)"
   ]
  },
  {
   "cell_type": "code",
   "execution_count": 7,
   "metadata": {},
   "outputs": [
    {
     "name": "stdout",
     "output_type": "stream",
     "text": [
      "[[3.854e-321 3.854e-321 2.945e-321 2.945e-321 2.925e-321 2.925e-321]\n",
      " [3.814e-321 3.814e-321 4.763e-321 4.763e-321 4.427e-321 4.427e-321]\n",
      " [4.664e-321 4.664e-321 5.336e-321 5.336e-321 5.810e-321 5.810e-321]\n",
      " [5.830e-321 5.830e-321 5.850e-321 5.850e-321 4.545e-321 4.545e-321]]\n"
     ]
    }
   ],
   "source": [
    "arr=np.empty((4,6))\n",
    "print(arr)"
   ]
  },
  {
   "cell_type": "markdown",
   "metadata": {},
   "source": [
    "### 5、常用属性"
   ]
  },
  {
   "cell_type": "markdown",
   "metadata": {},
   "source": [
    "numpy的多维数组常用属性主要有dtype（数据类型）、ndim（维度）、shape（形状）、size（元素个数）\n"
   ]
  },
  {
   "cell_type": "code",
   "execution_count": 2,
   "metadata": {},
   "outputs": [
    {
     "data": {
      "text/plain": [
       "array([[ 0,  1,  2,  3],\n",
       "       [ 4,  5,  6,  7],\n",
       "       [ 8,  9, 10, 11]])"
      ]
     },
     "execution_count": 2,
     "metadata": {},
     "output_type": "execute_result"
    }
   ],
   "source": [
    "arr=np.arange(12).reshape(3,4)\n",
    "arr"
   ]
  },
  {
   "cell_type": "code",
   "execution_count": null,
   "metadata": {},
   "outputs": [],
   "source": [
    "dir(arr)"
   ]
  },
  {
   "cell_type": "code",
   "execution_count": 5,
   "metadata": {},
   "outputs": [
    {
     "name": "stdout",
     "output_type": "stream",
     "text": [
      "int32\n",
      "2\n",
      "(3, 4)\n",
      "12\n"
     ]
    }
   ],
   "source": [
    "print(arr.dtype)\n",
    "print(arr.ndim)\n",
    "print(arr.shape)\n",
    "print(arr.size)"
   ]
  },
  {
   "cell_type": "code",
   "execution_count": 6,
   "metadata": {},
   "outputs": [
    {
     "data": {
      "text/plain": [
       "array([1, 2], dtype=int64)"
      ]
     },
     "execution_count": 6,
     "metadata": {},
     "output_type": "execute_result"
    }
   ],
   "source": [
    "arr = np.array([1,2],dtype=\"int64\")\n",
    "arr"
   ]
  },
  {
   "cell_type": "code",
   "execution_count": 7,
   "metadata": {},
   "outputs": [
    {
     "name": "stdout",
     "output_type": "stream",
     "text": [
      "int64\n",
      "1\n",
      "(2,)\n",
      "2\n"
     ]
    }
   ],
   "source": [
    "print(arr.dtype)\n",
    "print(arr.ndim)\n",
    "print(arr.shape)\n",
    "print(arr.size)"
   ]
  },
  {
   "cell_type": "markdown",
   "metadata": {},
   "source": [
    "### 6、基本计算"
   ]
  },
  {
   "cell_type": "markdown",
   "metadata": {},
   "source": [
    "numpy中的ndarray对象重载了许多运算符，使用这些运算符可以完成矩阵间对应元素的运算。\n",
    "\n",
    "如 +，-，\\*（内积），/，%，\\*\\*（次方），@（矩阵乘法）\n",
    "\n",
    "~~~\n",
    "# 矩阵内积：对应位置相乘\n",
    "print(arr1*arr2)\n",
    "# 矩阵乘法：\n",
    "print(arr1@arr2)\n",
    "print(np.dot(arr1,arr2))\n",
    "print(arr1.dot(arr2))\n",
    "~~~"
   ]
  },
  {
   "cell_type": "code",
   "execution_count": 2,
   "metadata": {},
   "outputs": [
    {
     "name": "stdout",
     "output_type": "stream",
     "text": [
      "[[1 2]\n",
      " [0 1]]\n",
      "[[1 2]\n",
      " [3 4]]\n"
     ]
    }
   ],
   "source": [
    "arr1=np.array([[1,2],[0,1]])\n",
    "arr2=np.arange(1,5).reshape(2,2)\n",
    "print(arr1)\n",
    "print(arr2)"
   ]
  },
  {
   "cell_type": "code",
   "execution_count": 7,
   "metadata": {},
   "outputs": [
    {
     "name": "stdout",
     "output_type": "stream",
     "text": [
      "[[2 4]\n",
      " [3 5]]\n",
      "[[ 0  0]\n",
      " [-3 -3]]\n",
      "[[1 4]\n",
      " [0 4]]\n",
      "[[1.   1.  ]\n",
      " [0.   0.25]]\n",
      "[[0 0]\n",
      " [0 1]]\n"
     ]
    }
   ],
   "source": [
    "# 对应位置相进行操作\n",
    "print(arr1+arr2)\n",
    "print(arr1-arr2)\n",
    "print(arr1*arr2)\n",
    "print(arr1/arr2)\n",
    "print(arr1%arr2)"
   ]
  },
  {
   "cell_type": "code",
   "execution_count": 8,
   "metadata": {},
   "outputs": [
    {
     "name": "stdout",
     "output_type": "stream",
     "text": [
      "[[ 1  4]\n",
      " [ 9 16]]\n"
     ]
    }
   ],
   "source": [
    "print(arr2**2)"
   ]
  },
  {
   "cell_type": "code",
   "execution_count": 10,
   "metadata": {},
   "outputs": [
    {
     "name": "stdout",
     "output_type": "stream",
     "text": [
      "[[ 7 10]\n",
      " [ 3  4]]\n",
      "[[ 7 10]\n",
      " [ 3  4]]\n",
      "[[ 7 10]\n",
      " [ 3  4]]\n"
     ]
    }
   ],
   "source": [
    "\"\"\"\n",
    "[[1 2]\n",
    " [0 1]]\n",
    "[[1 2]\n",
    " [3 4]]\n",
    "\"\"\"\n",
    "print(arr1@arr2)\n",
    "print(np.dot(arr1,arr2))\n",
    "print(arr1.dot(arr2))"
   ]
  },
  {
   "cell_type": "markdown",
   "metadata": {},
   "source": [
    "### 7、生成随机数"
   ]
  },
  {
   "cell_type": "markdown",
   "metadata": {},
   "source": [
    "**均匀分布**\n",
    "\n",
    "    a、服从[0, 1)之间的均匀分布：\n",
    "    numpy.random.rand(d0, d1, ..., dn)\n",
    "    \n",
    "    b、[0, 1)之间均匀抽样：\n",
    "    numpy.random.random(size=None)\n",
    "    和rand函数功能一样，参数不同而已\n",
    "    \n",
    "    c、在区间[low, high)中均匀分布：\n",
    "    numpy.random.uniform(low=0.0, high=1.0, size=None)\n",
    "    \n",
    "    d、随机整数：在区间[low, high)中离散均匀抽样：\n",
    "    numpy.random.randint(low, high=None, size=None, dtype='l')\n",
    "    \n",
    "\n",
    "\n",
    "\n",
    "**正态分布**\n",
    "    \n",
    "    a、标准正态分布（均值为0，方差为1）：\n",
    "    numpy.random.randn(d0, d1, ..., dn)\n",
    "    \n",
    "    b、服从μ=loc,σ=scale 的正态分布：\n",
    "    numpy.random.normal(loc=0.0, scale=1.0, size=None)\n",
    "\n",
    "\n",
    "**随机种子**\n",
    "\n",
    "RandomState：定义种子类：RandomState是一个种子类，提供了各种种子方法，最常用seed\n",
    "\n",
    "seed([seed])：定义全局种子：参数为整数或者矩阵\n",
    "\n",
    "代码示例：\n",
    "\n",
    "    np.random.seed(1234) #设置随机种子为1234\n"
   ]
  },
  {
   "cell_type": "markdown",
   "metadata": {},
   "source": [
    "#### （1）、均匀分布"
   ]
  },
  {
   "cell_type": "markdown",
   "metadata": {},
   "source": [
    "（a）、numpy.random.rand(d0, d1, ..., dn)\n",
    "\n",
    "作用：产生一个给定形状的数组（其实应该是ndarray对象或者是一个单值），数组中的值服从[0, 1)之间的均匀分布。\n",
    "\n",
    "参数：d0, d, ..., dn : int，可选。如果没有参数则返回一个float型的随机数，该随机数服从[0, 1)之间的均匀分布。\n",
    "\n",
    "返回值：ndarray对象或者一个float型的值"
   ]
  },
  {
   "cell_type": "code",
   "execution_count": 4,
   "metadata": {},
   "outputs": [
    {
     "name": "stdout",
     "output_type": "stream",
     "text": [
      "0.7150128477649011\n"
     ]
    }
   ],
   "source": [
    "import numpy as np\n",
    "print(np.random.rand())"
   ]
  },
  {
   "cell_type": "code",
   "execution_count": 5,
   "metadata": {
    "scrolled": true
   },
   "outputs": [
    {
     "name": "stdout",
     "output_type": "stream",
     "text": [
      "[[0.11726912 0.537929   0.85046431 0.10629822]\n",
      " [0.96794648 0.44952882 0.98481619 0.97339411]\n",
      " [0.44087987 0.44904936 0.48135571 0.79855473]]\n"
     ]
    }
   ],
   "source": [
    "print(np.random.rand(3,4))"
   ]
  },
  {
   "cell_type": "code",
   "execution_count": 9,
   "metadata": {},
   "outputs": [
    {
     "data": {
      "text/plain": [
       "<matplotlib.collections.PathCollection at 0x1bcc9195a88>"
      ]
     },
     "execution_count": 9,
     "metadata": {},
     "output_type": "execute_result"
    },
    {
     "data": {
      "image/png": "[encoded data removed]",
      "text/plain": [
       "<Figure size 432x288 with 1 Axes>"
      ]
     },
     "metadata": {
      "needs_background": "light"
     },
     "output_type": "display_data"
    }
   ],
   "source": [
    "import matplotlib.pyplot as plt  # 导入matplotlib模块，用于图表辅助分析\n",
    "%matplotlib inline\n",
    "\n",
    "# 解决中文乱码\n",
    "plt.rcParams[\"font.sans-serif\"]=[\"SimHei\"]\n",
    "plt.rcParams[\"font.family\"]=\"sans-serif\"\n",
    "# 解决负号无法显示的问题\n",
    "plt.rcParams['axes.unicode_minus'] =False\n",
    "\n",
    "data_x = np.random.rand(1000)\n",
    "data_y = np.random.rand(1000)\n",
    "plt.scatter(data_x,data_y)"
   ]
  },
  {
   "cell_type": "markdown",
   "metadata": {},
   "source": [
    "(b)、作用：返回从[0, 1)之间均匀抽样的数组，size指定形状。\n",
    "参数：\n",
    "\n",
    "size：int型或int型的元组，如果不提供则返回一个服从该分布的随机数\n",
    "\n",
    "返回值：float型或者float型的ndarray对象\n"
   ]
  },
  {
   "cell_type": "code",
   "execution_count": 6,
   "metadata": {},
   "outputs": [
    {
     "name": "stdout",
     "output_type": "stream",
     "text": [
      "0.6016433755436998\n"
     ]
    }
   ],
   "source": [
    "# 无参数\n",
    "print(np.random.random())"
   ]
  },
  {
   "cell_type": "code",
   "execution_count": 7,
   "metadata": {},
   "outputs": [
    {
     "name": "stdout",
     "output_type": "stream",
     "text": [
      "[[0.12555135 0.46428394 0.48071972]\n",
      " [0.47038581 0.40925949 0.80087893]\n",
      " [0.13619556 0.84889684 0.58511777]\n",
      " [0.26385416 0.03489293 0.1527992 ]]\n"
     ]
    }
   ],
   "source": [
    "# 元组做参数\n",
    "print(np.random.random((4,3)))"
   ]
  },
  {
   "cell_type": "code",
   "execution_count": null,
   "metadata": {},
   "outputs": [],
   "source": []
  }
 ],
 "metadata": {
  "kernelspec": {
   "display_name": "Python 3",
   "language": "python",
   "name": "python3"
  },
  "language_info": {
   "codemirror_mode": {
    "name": "ipython",
    "version": 3
   },
   "file_extension": ".py",
   "mimetype": "text/x-python",
   "name": "python",
   "nbconvert_exporter": "python",
   "pygments_lexer": "ipython3",
   "version": "3.7.6"
  }
 },
 "nbformat": 4,
 "nbformat_minor": 4
}
