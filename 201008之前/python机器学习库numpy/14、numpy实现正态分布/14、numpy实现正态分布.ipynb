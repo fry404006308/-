{
 "cells": [
  {
   "cell_type": "markdown",
   "metadata": {},
   "source": [
    "# <div style=\"color:red;text-align:center;\">14、numpy实现正态分布</div>"
   ]
  },
  {
   "cell_type": "markdown",
   "metadata": {},
   "source": [
    "![正态分布介绍.png](正态分布介绍.png)"
   ]
  },
  {
   "cell_type": "code",
   "execution_count": 1,
   "metadata": {},
   "outputs": [
    {
     "name": "stdout",
     "output_type": "stream",
     "text": [
      "0.4472135954999579\n",
      "[-1.34164079 -1.32363219 -1.30562358 -1.28761498 -1.26960638 -1.25159778\n",
      " -1.23358918 -1.21558058 -1.19757198 -1.17956338 -1.16155477 -1.14354617\n",
      " -1.12553757 -1.10752897 -1.08952037 -1.07151177 -1.05350317 -1.03549457\n",
      " -1.01748597 -0.99947736 -0.98146876 -0.96346016 -0.94545156 -0.92744296\n",
      " -0.90943436 -0.89142576 -0.87341716 -0.85540856 -0.83739995 -0.81939135\n",
      " -0.80138275 -0.78337415 -0.76536555 -0.74735695 -0.72934835 -0.71133975\n",
      " -0.69333114 -0.67532254 -0.65731394 -0.63930534 -0.62129674 -0.60328814\n",
      " -0.58527954 -0.56727094 -0.54926234 -0.53125373 -0.51324513 -0.49523653\n",
      " -0.47722793 -0.45921933 -0.44121073 -0.42320213 -0.40519353 -0.38718492\n",
      " -0.36917632 -0.35116772 -0.33315912 -0.31515052 -0.29714192 -0.27913332\n",
      " -0.26112472 -0.24311612 -0.22510751 -0.20709891 -0.18909031 -0.17108171\n",
      " -0.15307311 -0.13506451 -0.11705591 -0.09904731 -0.08103871 -0.0630301\n",
      " -0.0450215  -0.0270129  -0.0090043   0.0090043   0.0270129   0.0450215\n",
      "  0.0630301   0.08103871  0.09904731  0.11705591  0.13506451  0.15307311\n",
      "  0.17108171  0.18909031  0.20709891  0.22510751  0.24311612  0.26112472\n",
      "  0.27913332  0.29714192  0.31515052  0.33315912  0.35116772  0.36917632\n",
      "  0.38718492  0.40519353  0.42320213  0.44121073  0.45921933  0.47722793\n",
      "  0.49523653  0.51324513  0.53125373  0.54926234  0.56727094  0.58527954\n",
      "  0.60328814  0.62129674  0.63930534  0.65731394  0.67532254  0.69333114\n",
      "  0.71133975  0.72934835  0.74735695  0.76536555  0.78337415  0.80138275\n",
      "  0.81939135  0.83739995  0.85540856  0.87341716  0.89142576  0.90943436\n",
      "  0.92744296  0.94545156  0.96346016  0.98146876  0.99947736  1.01748597\n",
      "  1.03549457  1.05350317  1.07151177  1.08952037  1.10752897  1.12553757\n",
      "  1.14354617  1.16155477  1.17956338  1.19757198  1.21558058  1.23358918\n",
      "  1.25159778  1.26960638  1.28761498  1.30562358  1.32363219  1.34164079]\n",
      "================================================================================\n",
      "[0.00990991 0.01117334 0.01257742 0.01413501 0.01585976 0.01776612\n",
      " 0.01986938 0.02218564 0.02473178 0.02752546 0.03058507 0.03392971\n",
      " 0.03757912 0.04155362 0.04587403 0.05056158 0.05563783 0.06112453\n",
      " 0.06704349 0.07341646 0.08026498 0.08761016 0.09547258 0.10387202\n",
      " 0.11282733 0.12235614 0.13247473 0.1431977  0.15453784 0.16650581\n",
      " 0.17910996 0.19235604 0.20624703 0.22078286 0.23596021 0.2517723\n",
      " 0.26820873 0.28525524 0.30289362 0.32110154 0.33985247 0.35911557\n",
      " 0.37885569 0.39903332 0.41960463 0.44052155 0.46173184 0.48317922\n",
      " 0.50480361 0.52654127 0.54832514 0.57008507 0.59174821 0.61323933\n",
      " 0.6344813  0.65539544 0.67590207 0.69592095 0.7153718  0.73417482\n",
      " 0.75225127 0.76952396 0.78591781 0.80136042 0.81578255 0.82911869\n",
      " 0.84130753 0.85229239 0.86202174 0.87044953 0.8775356  0.88324596\n",
      " 0.88755311 0.8904362  0.89188126 0.89188126 0.8904362  0.88755311\n",
      " 0.88324596 0.8775356  0.87044953 0.86202174 0.85229239 0.84130753\n",
      " 0.82911869 0.81578255 0.80136042 0.78591781 0.76952396 0.75225127\n",
      " 0.73417482 0.7153718  0.69592095 0.67590207 0.65539544 0.6344813\n",
      " 0.61323933 0.59174821 0.57008507 0.54832514 0.52654127 0.50480361\n",
      " 0.48317922 0.46173184 0.44052155 0.41960463 0.39903332 0.37885569\n",
      " 0.35911557 0.33985247 0.32110154 0.30289362 0.28525524 0.26820873\n",
      " 0.2517723  0.23596021 0.22078286 0.20624703 0.19235604 0.17910996\n",
      " 0.16650581 0.15453784 0.1431977  0.13247473 0.12235614 0.11282733\n",
      " 0.10387202 0.09547258 0.08761016 0.08026498 0.07341646 0.06704349\n",
      " 0.06112453 0.05563783 0.05056158 0.04587403 0.04155362 0.03757912\n",
      " 0.03392971 0.03058507 0.02752546 0.02473178 0.02218564 0.01986938\n",
      " 0.01776612 0.01585976 0.01413501 0.01257742 0.01117334 0.00990991]\n"
     ]
    },
    {
     "data": {
      "image/png": "[encoded data removed]",
      "text/plain": [
       "<Figure size 432x288 with 1 Axes>"
      ]
     },
     "metadata": {
      "needs_background": "light"
     },
     "output_type": "display_data"
    }
   ],
   "source": [
    "# Python实现正态分布\n",
    "# 绘制正态分布概率密度函数\n",
    "import numpy as np\n",
    "import matplotlib.pyplot as plt\n",
    "\n",
    "u = 0  # 均值μ\n",
    "sig = np.sqrt(0.2)  # 标准差δ\n",
    "print(sig)\n",
    "\n",
    "x = np.linspace(u - 3 * sig, u + 3 * sig, 150)\n",
    "y = np.exp(-(x - u) ** 2 / (2 * sig ** 2)) / (np.sqrt(2 * np.pi) * sig)\n",
    "print(x)\n",
    "print(\"=\" * 80)\n",
    "print(y)\n",
    "plt.plot(x, y, \"r-\", linewidth=2)\n",
    "plt.grid(True)\n",
    "plt.show()"
   ]
  },
  {
   "cell_type": "code",
   "execution_count": null,
   "metadata": {},
   "outputs": [],
   "source": []
  }
 ],
 "metadata": {
  "kernelspec": {
   "display_name": "Python 3",
   "language": "python",
   "name": "python3"
  },
  "language_info": {
   "codemirror_mode": {
    "name": "ipython",
    "version": 3
   },
   "file_extension": ".py",
   "mimetype": "text/x-python",
   "name": "python",
   "nbconvert_exporter": "python",
   "pygments_lexer": "ipython3",
   "version": "3.8.8"
  },
  "latex_envs": {
   "LaTeX_envs_menu_present": true,
   "autoclose": false,
   "autocomplete": true,
   "bibliofile": "biblio.bib",
   "cite_by": "apalike",
   "current_citInitial": 1,
   "eqLabelWithNumbers": true,
   "eqNumInitial": 1,
   "hotkeys": {
    "equation": "Ctrl-E",
    "itemize": "Ctrl-I"
   },
   "labels_anchors": false,
   "latex_user_defs": false,
   "report_style_numbering": false,
   "user_envs_cfg": false
  },
  "toc": {
   "base_numbering": 1,
   "nav_menu": {},
   "number_sections": true,
   "sideBar": true,
   "skip_h1_title": false,
   "title_cell": "Table of Contents",
   "title_sidebar": "Contents",
   "toc_cell": false,
   "toc_position": {},
   "toc_section_display": true,
   "toc_window_display": false
  },
  "varInspector": {
   "cols": {
    "lenName": 16,
    "lenType": 16,
    "lenVar": 40
   },
   "kernels_config": {
    "python": {
     "delete_cmd_postfix": "",
     "delete_cmd_prefix": "del ",
     "library": "var_list.py",
     "varRefreshCmd": "print(var_dic_list())"
    },
    "r": {
     "delete_cmd_postfix": ") ",
     "delete_cmd_prefix": "rm(",
     "library": "var_list.r",
     "varRefreshCmd": "cat(var_dic_list()) "
    }
   },
   "types_to_exclude": [
    "module",
    "function",
    "builtin_function_or_method",
    "instance",
    "_Feature"
   ],
   "window_display": false
  }
 },
 "nbformat": 4,
 "nbformat_minor": 4
}
