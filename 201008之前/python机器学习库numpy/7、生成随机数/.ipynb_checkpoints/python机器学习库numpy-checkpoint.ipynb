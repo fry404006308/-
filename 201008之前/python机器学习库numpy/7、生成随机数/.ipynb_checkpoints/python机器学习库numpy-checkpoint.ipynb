{
 "cells": [
  {
   "cell_type": "markdown",
   "metadata": {},
   "source": [
    "# <div style=\"color:red;text-align:center;\">python机器学习库numpy</div>"
   ]
  },
  {
   "cell_type": "markdown",
   "metadata": {},
   "source": [
    "### 7、生成随机数"
   ]
  },
  {
   "cell_type": "markdown",
   "metadata": {},
   "source": [
    "**（1）、均匀分布**\n",
    "\n",
    "    a、服从[0, 1)之间的均匀分布：\n",
    "    numpy.random.rand(d0, d1, ..., dn)\n",
    "    \n",
    "    b、[0, 1)之间均匀抽样：\n",
    "    numpy.random.random(size=None)\n",
    "    和rand函数功能一样，参数不同而已\n",
    "    \n",
    "    c、在区间[low, high)中均匀分布：\n",
    "    numpy.random.uniform(low=0.0, high=1.0, size=None)\n",
    "    \n",
    "    d、随机整数：在区间[low, high)中离散均匀抽样：\n",
    "    numpy.random.randint(low, high=None, size=None, dtype='l')\n",
    "    \n",
    "-----------------------\n",
    "\n",
    "python中，random.random( )和random.rand( )功能完全一样，numpy为什么要留两个表示0-1均匀分布的函数？\n",
    "\n",
    "历史原因，可能是为了使 Matlab 用户更容易学习 python+numpy 的组合。如果把其中一个函数去掉，所带来的麻烦远大于好处，因为有很多现存的代码分别使用了这两个函数。\n",
    "\n",
    "\n",
    "**（2）、正态分布**\n",
    "    \n",
    "    a、标准正态分布（均值为0，方差为1）：\n",
    "    numpy.random.randn(d0, d1, ..., dn)\n",
    "    \n",
    "    b、服从μ=loc,σ=scale 的正态分布：\n",
    "    numpy.random.normal(loc=0.0, scale=1.0, size=None)\n",
    "\n",
    "\n",
    "**（3）、随机种子**\n",
    "\n",
    "RandomState：定义种子类：RandomState是一个种子类，提供了各种种子方法，最常用seed\n",
    "\n",
    "seed([seed])：定义全局种子：参数为整数或者矩阵\n",
    "\n",
    "代码示例：\n",
    "\n",
    "    np.random.seed(1234) #设置随机种子为1234\n"
   ]
  },
  {
   "cell_type": "markdown",
   "metadata": {},
   "source": [
    "#### （1）、均匀分布"
   ]
  },
  {
   "cell_type": "markdown",
   "metadata": {},
   "source": [
    "<div style=\"color:red;\">（a）、服从[0, 1)之间的均匀分布：numpy.random.rand(d0, d1, ..., dn)</div>\n",
    "\n",
    "作用：\n",
    "\n",
    "    产生一个给定形状的数组（其实应该是ndarray对象或者是一个单值），数组中的值服从[0, 1)之间的均匀分布。\n",
    "\n",
    "参数：\n",
    "\n",
    "    d0, d, ..., dn : int，可选。如果没有参数则返回一个float型的随机数，该随机数服从[0, 1)之间的均匀分布。\n",
    "\n",
    "返回值：\n",
    "\n",
    "    ndarray对象或者一个float型的值"
   ]
  },
  {
   "cell_type": "code",
   "execution_count": null,
   "metadata": {},
   "outputs": [],
   "source": [
    "import numpy as np\n",
    "print(np.random.rand())"
   ]
  },
  {
   "cell_type": "code",
   "execution_count": null,
   "metadata": {},
   "outputs": [],
   "source": [
    "print(np.random.rand(3))"
   ]
  },
  {
   "cell_type": "code",
   "execution_count": null,
   "metadata": {
    "scrolled": true
   },
   "outputs": [],
   "source": [
    "print(np.random.rand(3,4))"
   ]
  },
  {
   "cell_type": "code",
   "execution_count": null,
   "metadata": {},
   "outputs": [],
   "source": [
    "import matplotlib.pyplot as plt  # 导入matplotlib模块，用于图表辅助分析\n",
    "%matplotlib inline\n",
    "\n",
    "# 解决中文乱码\n",
    "plt.rcParams[\"font.sans-serif\"]=[\"SimHei\"]\n",
    "plt.rcParams[\"font.family\"]=\"sans-serif\"\n",
    "# 解决负号无法显示的问题\n",
    "plt.rcParams['axes.unicode_minus'] =False\n",
    "\n",
    "data_x = np.random.rand(1000)\n",
    "data_y = np.random.rand(1000)\n",
    "plt.scatter(data_x,data_y)"
   ]
  },
  {
   "cell_type": "markdown",
   "metadata": {},
   "source": [
    "<div style=\"color:red;\">(b)、[0, 1)之间均匀抽样：numpy.random.random(size=None)</div>\n",
    "\n",
    "作用：\n",
    "\n",
    "    返回从[0, 1)之间均匀抽样的数组，size指定形状。\n",
    "参数：\n",
    "\n",
    "size：\n",
    "\n",
    "    int型或int型的元组，如果不提供则返回一个服从该分布的随机数\n",
    "\n",
    "返回值：\n",
    "\n",
    "    float型或者float型的ndarray对象\n",
    "    \n",
    "    \n",
    "\n",
    "\n"
   ]
  },
  {
   "cell_type": "code",
   "execution_count": null,
   "metadata": {},
   "outputs": [],
   "source": [
    "# 无参数\n",
    "print(np.random.random())"
   ]
  },
  {
   "cell_type": "code",
   "execution_count": null,
   "metadata": {},
   "outputs": [],
   "source": [
    "print(np.random.random((4,)))"
   ]
  },
  {
   "cell_type": "code",
   "execution_count": null,
   "metadata": {},
   "outputs": [],
   "source": [
    "# 元组做参数\n",
    "print(np.random.random((4,3)))"
   ]
  },
  {
   "cell_type": "code",
   "execution_count": null,
   "metadata": {
    "scrolled": true
   },
   "outputs": [],
   "source": [
    "import matplotlib.pyplot as plt  # 导入matplotlib模块，用于图表辅助分析\n",
    "%matplotlib inline\n",
    "\n",
    "# 解决中文乱码\n",
    "plt.rcParams[\"font.sans-serif\"]=[\"SimHei\"]\n",
    "plt.rcParams[\"font.family\"]=\"sans-serif\"\n",
    "# 解决负号无法显示的问题\n",
    "plt.rcParams['axes.unicode_minus'] =False\n",
    "\n",
    "data_x = np.random.random((1000,))\n",
    "data_y = np.random.random((1000,))\n",
    "plt.scatter(data_x,data_y)"
   ]
  },
  {
   "cell_type": "markdown",
   "metadata": {},
   "source": [
    "<div style=\"color:red;\">（c）、在区间[low, high)中均匀分布：numpy.random.uniform(low=0.0, high=1.0, size=None)</div>\n",
    "\n",
    "作用：\n",
    "\n",
    "    返回一个在区间[low, high)中均匀分布的数组，size指定形状。\n",
    "\n",
    "参数：\n",
    "\n",
    "    low, high：float型或者float型的类数组对象。指定抽样区间为[low, high)，low的默认值为0.0，hign的默认值为1.0\n",
    "\n",
    "size：\n",
    "\n",
    "    int型或int型元组。指定形状，如果不提供size，则返回一个服从该分布的随机数。"
   ]
  },
  {
   "cell_type": "code",
   "execution_count": null,
   "metadata": {},
   "outputs": [],
   "source": [
    "print(np.random.uniform())"
   ]
  },
  {
   "cell_type": "code",
   "execution_count": null,
   "metadata": {},
   "outputs": [],
   "source": [
    "print(np.random.uniform(10,100,(4,5)))"
   ]
  },
  {
   "cell_type": "code",
   "execution_count": null,
   "metadata": {},
   "outputs": [],
   "source": [
    "import matplotlib.pyplot as plt  # 导入matplotlib模块，用于图表辅助分析\n",
    "%matplotlib inline\n",
    "\n",
    "# 解决中文乱码\n",
    "plt.rcParams[\"font.sans-serif\"]=[\"SimHei\"]\n",
    "plt.rcParams[\"font.family\"]=\"sans-serif\"\n",
    "# 解决负号无法显示的问题\n",
    "plt.rcParams['axes.unicode_minus'] =False\n",
    "\n",
    "data_x = np.random.uniform(10,100,(1000,))\n",
    "data_y = np.random.uniform(10,100,(1000,))\n",
    "plt.scatter(data_x,data_y)"
   ]
  },
  {
   "cell_type": "markdown",
   "metadata": {},
   "source": [
    "<div style=\"color:red;\">（d）、随机整数：在区间[low, high)中离散均匀抽样：numpy.random.randint(low, high=None, size=None, dtype='l')</div>\n",
    "\n",
    "作用：\n",
    "\n",
    "    返回一个在区间[low, high)中离散均匀抽样的数组，size指定形状，dtype指定数据类型。\n",
    "\n",
    "参数：\n",
    "\n",
    "    low, high：int型，指定抽样区间[low, high)\n",
    "    size：int型或int型的元组，指定形状\n",
    "    dypte：可选参数，指定数据类型，比如int,int64等，默认是np.int\n",
    "\n",
    "返回值：\n",
    "\n",
    "    如果指定了size，则返回一个int型的ndarray对象，否则返回一个服从该分布的int型随机数。"
   ]
  },
  {
   "cell_type": "code",
   "execution_count": null,
   "metadata": {},
   "outputs": [],
   "source": [
    "# 只有一个参数的时候表示最大值\n",
    "print(np.random.randint(10))"
   ]
  },
  {
   "cell_type": "code",
   "execution_count": null,
   "metadata": {},
   "outputs": [],
   "source": [
    "help(np.random.randint)"
   ]
  },
  {
   "cell_type": "code",
   "execution_count": null,
   "metadata": {},
   "outputs": [],
   "source": [
    "print(np.random.randint(10,100,(3,4)))"
   ]
  },
  {
   "cell_type": "code",
   "execution_count": null,
   "metadata": {},
   "outputs": [],
   "source": [
    "import matplotlib.pyplot as plt  # 导入matplotlib模块，用于图表辅助分析\n",
    "%matplotlib inline\n",
    "\n",
    "# 解决中文乱码\n",
    "plt.rcParams[\"font.sans-serif\"]=[\"SimHei\"]\n",
    "plt.rcParams[\"font.family\"]=\"sans-serif\"\n",
    "# 解决负号无法显示的问题\n",
    "plt.rcParams['axes.unicode_minus'] =False\n",
    "\n",
    "data_x = np.random.randint(10,100,(1000,))\n",
    "data_y = np.random.randint(10,100,(1000,))\n",
    "plt.scatter(data_x,data_y)"
   ]
  },
  {
   "cell_type": "markdown",
   "metadata": {},
   "source": [
    "#### （2）、正态分布"
   ]
  },
  {
   "cell_type": "markdown",
   "metadata": {},
   "source": [
    "<div style=\"color:red;\">（a）、标准正态分布（均值为0，方差为1）：numpy.random.randn(d0, d1, ..., dn)</div>\n",
    "\n",
    "作用：\n",
    "\n",
    "    返回一个指定形状的数组，数组中的值服从标准正态分布（均值为0，方差为1）。\n",
    "\n",
    "参数：\n",
    "\n",
    "    d0, d, ..., dn : int，可选。如果没有参数，则返回一个服从标准正态分布的float型随机数。\n",
    "\n",
    "返回值：\n",
    "\n",
    "    ndarray对象或者float"
   ]
  },
  {
   "cell_type": "code",
   "execution_count": null,
   "metadata": {},
   "outputs": [],
   "source": [
    "# 无参数\n",
    "print(np.random.randn())"
   ]
  },
  {
   "cell_type": "code",
   "execution_count": null,
   "metadata": {},
   "outputs": [],
   "source": [
    "# 3行4列 的正态分布\n",
    "print(np.random.randn(3,4))\n",
    "# 正态分布，所以我们可以看到结果有正有负"
   ]
  },
  {
   "cell_type": "code",
   "execution_count": null,
   "metadata": {},
   "outputs": [],
   "source": [
    "import matplotlib.pyplot as plt  # 导入matplotlib模块，用于图表辅助分析\n",
    "%matplotlib inline\n",
    "\n",
    "# 解决中文乱码\n",
    "plt.rcParams[\"font.sans-serif\"]=[\"SimHei\"]\n",
    "plt.rcParams[\"font.family\"]=\"sans-serif\"\n",
    "# 解决负号无法显示的问题\n",
    "plt.rcParams['axes.unicode_minus'] =False\n",
    "\n",
    "data_x = np.random.randn(1000)\n",
    "data_y = np.random.randn(1000)\n",
    "plt.scatter(data_x,data_y)"
   ]
  },
  {
   "cell_type": "markdown",
   "metadata": {},
   "source": [
    "<div style=\"color:red;\">（b）、服从μ=loc,σ=scale 的正态分布：numpy.random.normal(loc=0.0, scale=1.0, size=None)</div>\n",
    "\n",
    "作用：\n",
    "\n",
    "    返回一个由size指定形状的数组，数组中的值服从 μ=loc,σ=scale 的正态分布。\n",
    "\n",
    "参数：\n",
    "\n",
    "    loc : float型或者float型的类数组对象，指定均值 μ\n",
    "    scale : float型或者float型的类数组对象，指定标准差 σ\n",
    "    size : int型或者int型的元组，指定了数组的形状。如果不提供size，且loc和scale为标量（不是类数组对象），则返回一个服从该分布的随机数。\n",
    "输出：\n",
    "\n",
    "    ndarray对象或者一个标量"
   ]
  },
  {
   "cell_type": "code",
   "execution_count": null,
   "metadata": {},
   "outputs": [],
   "source": [
    "# 无参数\n",
    "print(np.random.normal())"
   ]
  },
  {
   "cell_type": "code",
   "execution_count": null,
   "metadata": {},
   "outputs": [],
   "source": [
    "# 3行4列 的正态分布\n",
    "print(np.random.normal(10,2,(3,4)))"
   ]
  },
  {
   "cell_type": "code",
   "execution_count": null,
   "metadata": {
    "scrolled": true
   },
   "outputs": [],
   "source": [
    "import matplotlib.pyplot as plt  # 导入matplotlib模块，用于图表辅助分析\n",
    "%matplotlib inline\n",
    "\n",
    "# 解决中文乱码\n",
    "plt.rcParams[\"font.sans-serif\"]=[\"SimHei\"]\n",
    "plt.rcParams[\"font.family\"]=\"sans-serif\"\n",
    "# 解决负号无法显示的问题\n",
    "plt.rcParams['axes.unicode_minus'] =False\n",
    "\n",
    "data_x = np.random.normal(10,2,(1000))\n",
    "data_y = np.random.normal(10,2,(1000))\n",
    "plt.scatter(data_x,data_y)"
   ]
  },
  {
   "cell_type": "markdown",
   "metadata": {},
   "source": [
    "#### (3)、随机种子"
   ]
  },
  {
   "cell_type": "markdown",
   "metadata": {},
   "source": [
    "计算机实现的随机数生成通常为伪随机数生成器，为了使得具备随机性的代码最终的结果可复现，需要设置相同的种子值\n",
    "\n",
    "--------------------\n",
    "\n",
    "电脑产生随机数需要明白以下几点： \n",
    "\n",
    "    （1）随机数是由随机种子根据一定的计算方法计算出来的数值。所以，只要计算方法一定，随机种子一定，那么产生的随机数就不会变。 \n",
    "    （2）只要用户不设置随机种子，那么在默认情况下随机种子来自系统时钟（即定时/计数器的值） \n",
    "    （3）随机数产生的算法与系统有关，Windows和Linux是不同的，也就是说，即便是随机种子一样，不同系统产生的随机数也不一样。 \n",
    "\n",
    "\n",
    "--------------------\n",
    "\n",
    "随机种子方法\n",
    "\n",
    "RandomState：定义种子类：RandomState是一个种子类，提供了各种种子方法，最常用seed\n",
    "\n",
    "seed([seed])：定义全局种子：参数为整数或者矩阵\n",
    "\n",
    "代码示例：\n",
    "\n",
    "np.random.seed(1234) #设置随机种子为1234"
   ]
  },
  {
   "cell_type": "code",
   "execution_count": null,
   "metadata": {
    "scrolled": true
   },
   "outputs": [],
   "source": [
    "#1为种子，种子不一样，生成的随机数也不一样，但是对每个种子来说，每次运行所生成的随机数是相同的\n",
    "import numpy as np\n",
    "rs = np.random.RandomState(1)  \n",
    "data = rs.rand(30)\n",
    "print(data)"
   ]
  },
  {
   "cell_type": "code",
   "execution_count": null,
   "metadata": {},
   "outputs": [],
   "source": [
    "# 如果没设置随机数\n",
    "import numpy as np\n",
    "print(np.random.rand(30))"
   ]
  },
  {
   "cell_type": "code",
   "execution_count": null,
   "metadata": {},
   "outputs": [],
   "source": [
    "import numpy as np\n",
    "np.random.seed(1) #设置随机种子为1\n",
    "print(np.random.rand(30))"
   ]
  },
  {
   "cell_type": "code",
   "execution_count": null,
   "metadata": {},
   "outputs": [],
   "source": []
  }
 ],
 "metadata": {
  "kernelspec": {
   "display_name": "Python 3",
   "language": "python",
   "name": "python3"
  },
  "language_info": {
   "codemirror_mode": {
    "name": "ipython",
    "version": 3
   },
   "file_extension": ".py",
   "mimetype": "text/x-python",
   "name": "python",
   "nbconvert_exporter": "python",
   "pygments_lexer": "ipython3",
   "version": "3.7.6"
  }
 },
 "nbformat": 4,
 "nbformat_minor": 4
}
