{
 "cells": [
  {
   "cell_type": "markdown",
   "metadata": {},
   "source": [
    "# <div style=\"color:red;text-align:center;\">8、常用函数</div>"
   ]
  },
  {
   "cell_type": "markdown",
   "metadata": {},
   "source": [
    "numpy常用函数有sin、sqrt（求平方根）、sort、transpose（转置）、max、\n",
    "\n",
    "mean（average）、sum、median（中位数）、var（方差）、std（标准差）、cumsum（累加）、\n",
    "\n",
    "np.clip(arr,5,9)（小于5的数全部让它变成5，大于9的数全部是9）\n",
    "\n",
    "---\n",
    "\n",
    "**numpy中的axis为0为1分别表示的意思是什么**\n",
    "\n",
    "axis为0表示对列进行操作，axis为1表示为行进行操作\n",
    "\n",
    "~~~\n",
    "[[ 0  1  2  3]\n",
    " [ 4  5  6  7]\n",
    " [ 8  9 10 11]]\n",
    "\n",
    "# 平均数\n",
    "print(arr.mean())\n",
    "print(np.average(arr))\n",
    "print(np.average(arr,axis=0)) # 0是列\n",
    "print(np.average(arr,axis=1)) # 1是行\n",
    "\n",
    "5.75\n",
    "5.75\n",
    "[4. 5. 7. 7.]\n",
    "[1.5  6.25 9.5 ]\n",
    "\n",
    "~~~"
   ]
  },
  {
   "cell_type": "markdown",
   "metadata": {},
   "source": [
    "### 1、sin"
   ]
  },
  {
   "cell_type": "code",
   "execution_count": 1,
   "metadata": {},
   "outputs": [
    {
     "data": {
      "text/plain": [
       "array([[ 0,  1,  2,  3],\n",
       "       [ 4,  5,  6,  7],\n",
       "       [ 8,  9, 10, 11]])"
      ]
     },
     "execution_count": 1,
     "metadata": {},
     "output_type": "execute_result"
    }
   ],
   "source": [
    "import numpy as np\n",
    "arr = np.arange(12).reshape(3,4)\n",
    "arr"
   ]
  },
  {
   "cell_type": "code",
   "execution_count": 2,
   "metadata": {},
   "outputs": [
    {
     "name": "stdout",
     "output_type": "stream",
     "text": [
      "[[ 0.          0.84147098  0.90929743  0.14112001]\n",
      " [-0.7568025  -0.95892427 -0.2794155   0.6569866 ]\n",
      " [ 0.98935825  0.41211849 -0.54402111 -0.99999021]]\n"
     ]
    }
   ],
   "source": [
    "print(np.sin(arr))"
   ]
  },
  {
   "cell_type": "markdown",
   "metadata": {},
   "source": [
    "### 2、求平方根：sqrt"
   ]
  },
  {
   "cell_type": "code",
   "execution_count": 3,
   "metadata": {},
   "outputs": [
    {
     "name": "stdout",
     "output_type": "stream",
     "text": [
      "[[0.         1.         1.41421356 1.73205081]\n",
      " [2.         2.23606798 2.44948974 2.64575131]\n",
      " [2.82842712 3.         3.16227766 3.31662479]]\n"
     ]
    }
   ],
   "source": [
    "print(np.sqrt(arr))"
   ]
  },
  {
   "cell_type": "markdown",
   "metadata": {},
   "source": [
    "### 3、排序：sort"
   ]
  },
  {
   "cell_type": "code",
   "execution_count": 4,
   "metadata": {},
   "outputs": [
    {
     "name": "stdout",
     "output_type": "stream",
     "text": [
      "[[0.6133163  0.40105172 0.60318273 0.67890187]\n",
      " [0.91493469 0.4497298  0.31922568 0.66318644]\n",
      " [0.28126538 0.8782578  0.76664562 0.34856477]]\n"
     ]
    }
   ],
   "source": [
    "arr = np.random.rand(12).reshape(3,4)\n",
    "print(arr)"
   ]
  },
  {
   "cell_type": "code",
   "execution_count": 5,
   "metadata": {},
   "outputs": [
    {
     "name": "stdout",
     "output_type": "stream",
     "text": [
      "[[0.40105172 0.60318273 0.6133163  0.67890187]\n",
      " [0.31922568 0.4497298  0.66318644 0.91493469]\n",
      " [0.28126538 0.34856477 0.76664562 0.8782578 ]]\n"
     ]
    }
   ],
   "source": [
    "print(np.sort(arr))"
   ]
  },
  {
   "cell_type": "code",
   "execution_count": 7,
   "metadata": {
    "scrolled": true
   },
   "outputs": [
    {
     "name": "stdout",
     "output_type": "stream",
     "text": [
      "[[0.6133163  0.40105172 0.60318273 0.67890187]\n",
      " [0.91493469 0.4497298  0.31922568 0.66318644]\n",
      " [0.28126538 0.8782578  0.76664562 0.34856477]]\n",
      "[[0.28126538 0.40105172 0.31922568 0.34856477]\n",
      " [0.6133163  0.4497298  0.60318273 0.66318644]\n",
      " [0.91493469 0.8782578  0.76664562 0.67890187]]\n"
     ]
    }
   ],
   "source": [
    "# 以每一列来从小到大排序\n",
    "# axis，axis=0的时候表示以列来进行操作，为1的时候表示以行来进行操作\n",
    "print(arr)\n",
    "print(np.sort(arr,axis=0))"
   ]
  },
  {
   "cell_type": "code",
   "execution_count": 8,
   "metadata": {},
   "outputs": [
    {
     "name": "stdout",
     "output_type": "stream",
     "text": [
      "[0.28126538 0.31922568 0.34856477 0.40105172 0.4497298  0.60318273\n",
      " 0.6133163  0.66318644 0.67890187 0.76664562 0.8782578  0.91493469]\n"
     ]
    }
   ],
   "source": [
    "# 整个数组从小到大排序\n",
    "print(np.sort(arr,axis=None))"
   ]
  },
  {
   "cell_type": "code",
   "execution_count": 9,
   "metadata": {},
   "outputs": [
    {
     "name": "stdout",
     "output_type": "stream",
     "text": [
      "[[0.28126538 0.31922568 0.34856477 0.40105172]\n",
      " [0.4497298  0.60318273 0.6133163  0.66318644]\n",
      " [0.67890187 0.76664562 0.8782578  0.91493469]]\n"
     ]
    }
   ],
   "source": [
    "print(np.sort(arr,axis=None).reshape(3,4))"
   ]
  },
  {
   "cell_type": "markdown",
   "metadata": {},
   "source": [
    "### 4、转置：transpose"
   ]
  },
  {
   "cell_type": "code",
   "execution_count": 10,
   "metadata": {},
   "outputs": [
    {
     "name": "stdout",
     "output_type": "stream",
     "text": [
      "[[ 0  1  2  3]\n",
      " [ 4  5  6  7]\n",
      " [ 8  9 10 11]]\n",
      "[[ 0  4  8]\n",
      " [ 1  5  9]\n",
      " [ 2  6 10]\n",
      " [ 3  7 11]]\n"
     ]
    }
   ],
   "source": [
    "import numpy as np\n",
    "arr = np.arange(12).reshape(3,4)\n",
    "print(arr)\n",
    "print(np.transpose(arr))"
   ]
  },
  {
   "cell_type": "code",
   "execution_count": 11,
   "metadata": {},
   "outputs": [
    {
     "name": "stdout",
     "output_type": "stream",
     "text": [
      "[[ 0  4  8]\n",
      " [ 1  5  9]\n",
      " [ 2  6 10]\n",
      " [ 3  7 11]]\n"
     ]
    }
   ],
   "source": [
    "print(arr.T)"
   ]
  },
  {
   "cell_type": "markdown",
   "metadata": {},
   "source": [
    "### 5、求最大值：max"
   ]
  },
  {
   "cell_type": "code",
   "execution_count": 17,
   "metadata": {},
   "outputs": [
    {
     "name": "stdout",
     "output_type": "stream",
     "text": [
      "[[0.08615588 0.39306899 0.88981629 0.0076252 ]\n",
      " [0.52730672 0.66934283 0.58458758 0.77991555]\n",
      " [0.32811653 0.48020368 0.48118878 0.93871359]]\n"
     ]
    }
   ],
   "source": [
    "arr = np.random.rand(12).reshape(3,4)\n",
    "print(arr)"
   ]
  },
  {
   "cell_type": "code",
   "execution_count": 13,
   "metadata": {},
   "outputs": [
    {
     "name": "stdout",
     "output_type": "stream",
     "text": [
      "0.7300791661344581\n"
     ]
    }
   ],
   "source": [
    "print(np.max(arr))"
   ]
  },
  {
   "cell_type": "code",
   "execution_count": 14,
   "metadata": {},
   "outputs": [
    {
     "name": "stdout",
     "output_type": "stream",
     "text": [
      "[0.7045045  0.23861811 0.73007917]\n"
     ]
    }
   ],
   "source": [
    "# 以行的方式来找最大值\n",
    "print(np.max(arr,axis=1))"
   ]
  },
  {
   "cell_type": "code",
   "execution_count": 16,
   "metadata": {},
   "outputs": [
    {
     "name": "stdout",
     "output_type": "stream",
     "text": [
      "[[0.7045045  0.47189083 0.04382594 0.34683246]\n",
      " [0.23861811 0.10207685 0.00825278 0.05717811]\n",
      " [0.73007917 0.37431436 0.0156451  0.07078938]]\n",
      "[0.73007917 0.47189083 0.04382594 0.34683246]\n"
     ]
    }
   ],
   "source": [
    "# 以列的方式来找最大值\n",
    "print(arr)\n",
    "print(np.max(arr,axis=0))"
   ]
  },
  {
   "cell_type": "markdown",
   "metadata": {},
   "source": [
    "### 6、求均值：mean（average）"
   ]
  },
  {
   "cell_type": "code",
   "execution_count": 1,
   "metadata": {},
   "outputs": [
    {
     "name": "stdout",
     "output_type": "stream",
     "text": [
      "[[ 0  1  2  3]\n",
      " [ 4  5  6  7]\n",
      " [ 8  9 10 11]]\n"
     ]
    }
   ],
   "source": [
    "import numpy as np\n",
    "arr = np.arange(12).reshape(3,4)\n",
    "print(arr)"
   ]
  },
  {
   "cell_type": "code",
   "execution_count": 2,
   "metadata": {},
   "outputs": [
    {
     "name": "stdout",
     "output_type": "stream",
     "text": [
      "5.5\n",
      "5.5\n"
     ]
    }
   ],
   "source": [
    "print(np.mean(arr))\n",
    "print(np.average(arr))"
   ]
  },
  {
   "cell_type": "code",
   "execution_count": 3,
   "metadata": {},
   "outputs": [
    {
     "name": "stdout",
     "output_type": "stream",
     "text": [
      "[4. 5. 6. 7.]\n",
      "[4. 5. 6. 7.]\n"
     ]
    }
   ],
   "source": [
    "# 以列的方式求均值\n",
    "print(np.mean(arr,axis=0))\n",
    "print(np.average(arr,axis=0))"
   ]
  },
  {
   "cell_type": "code",
   "execution_count": 4,
   "metadata": {},
   "outputs": [
    {
     "name": "stdout",
     "output_type": "stream",
     "text": [
      "[[ 0  1  2  3]\n",
      " [ 4  5  6  7]\n",
      " [ 8  9 10 11]]\n",
      "[1.5 5.5 9.5]\n",
      "[1.5 5.5 9.5]\n"
     ]
    }
   ],
   "source": [
    "# 以行的方式求均值\n",
    "print(arr)\n",
    "print(np.mean(arr,axis=1))\n",
    "print(np.average(arr,axis=1))"
   ]
  },
  {
   "cell_type": "markdown",
   "metadata": {},
   "source": [
    "### 7、求和：sum"
   ]
  },
  {
   "cell_type": "code",
   "execution_count": 5,
   "metadata": {},
   "outputs": [
    {
     "name": "stdout",
     "output_type": "stream",
     "text": [
      "[[ 0  1  2  3]\n",
      " [ 4  5  6  7]\n",
      " [ 8  9 10 11]]\n",
      "66\n"
     ]
    }
   ],
   "source": [
    "import numpy as np\n",
    "arr = np.arange(12).reshape(3,4)\n",
    "print(arr)\n",
    "print(np.sum(arr))"
   ]
  },
  {
   "cell_type": "code",
   "execution_count": 6,
   "metadata": {},
   "outputs": [
    {
     "name": "stdout",
     "output_type": "stream",
     "text": [
      "[12 15 18 21]\n"
     ]
    }
   ],
   "source": [
    "# 以列的方式\n",
    "print(np.sum(arr,axis=0))"
   ]
  },
  {
   "cell_type": "code",
   "execution_count": 7,
   "metadata": {},
   "outputs": [
    {
     "name": "stdout",
     "output_type": "stream",
     "text": [
      "[ 6 22 38]\n"
     ]
    }
   ],
   "source": [
    "# 以行的方式\n",
    "print(np.sum(arr,axis=1))"
   ]
  },
  {
   "cell_type": "markdown",
   "metadata": {},
   "source": [
    "### 8、中位数：median"
   ]
  },
  {
   "cell_type": "code",
   "execution_count": 8,
   "metadata": {},
   "outputs": [
    {
     "name": "stdout",
     "output_type": "stream",
     "text": [
      "[[ 0  1  2  3]\n",
      " [ 4  5  6  7]\n",
      " [ 8  9 10 11]]\n",
      "[[ 0  1  2  3]\n",
      " [ 4  5  9  7]\n",
      " [ 8  9 10 11]]\n"
     ]
    }
   ],
   "source": [
    "import numpy as np\n",
    "arr = np.arange(12).reshape(3,4)\n",
    "print(arr)\n",
    "arr[1][2]=9\n",
    "print(arr)"
   ]
  },
  {
   "cell_type": "code",
   "execution_count": 9,
   "metadata": {},
   "outputs": [
    {
     "name": "stdout",
     "output_type": "stream",
     "text": [
      "6.0\n",
      "[4. 5. 9. 7.]\n",
      "[1.5 6.  9.5]\n"
     ]
    }
   ],
   "source": [
    "print(np.median(arr))\n",
    "print(np.median(arr,axis=0)) #列\n",
    "print(np.median(arr,axis=1)) #行"
   ]
  },
  {
   "cell_type": "markdown",
   "metadata": {},
   "source": [
    "### 9、方差：var\n",
    "\n",
    "方差的函数为var(),方差函数var()相当于函数mean(abs(x - x.mean())**2),其中x为矩阵。"
   ]
  },
  {
   "cell_type": "code",
   "execution_count": 10,
   "metadata": {},
   "outputs": [
    {
     "name": "stdout",
     "output_type": "stream",
     "text": [
      "12.854166666666666\n",
      "[10.66666667 10.66666667 12.66666667 10.66666667]\n"
     ]
    }
   ],
   "source": [
    "print(np.var(arr))\n",
    "print(np.var(arr,axis=0)) #列的方式"
   ]
  },
  {
   "cell_type": "markdown",
   "metadata": {},
   "source": [
    "### 10、标准差：std\n",
    "\n",
    "标准差的函数为std()， std()相当于sqrt(mean(abs(x - x.mean())**2))，或相当于sqrt(x.var())。"
   ]
  },
  {
   "cell_type": "code",
   "execution_count": 11,
   "metadata": {},
   "outputs": [
    {
     "name": "stdout",
     "output_type": "stream",
     "text": [
      "3.5852707940498254\n"
     ]
    }
   ],
   "source": [
    "print(np.std(arr))"
   ]
  },
  {
   "cell_type": "markdown",
   "metadata": {},
   "source": [
    "### 11、累加：cumsum"
   ]
  },
  {
   "cell_type": "code",
   "execution_count": 12,
   "metadata": {},
   "outputs": [
    {
     "name": "stdout",
     "output_type": "stream",
     "text": [
      "[[ 0  1  2  3]\n",
      " [ 4  5  9  7]\n",
      " [ 8  9 10 11]]\n",
      "[ 0  1  3  6 10 15 24 31 39 48 58 69]\n",
      "[[ 0  1  3  6]\n",
      " [ 4  9 18 25]\n",
      " [ 8 17 27 38]]\n"
     ]
    }
   ],
   "source": [
    "print(arr)\n",
    "print(np.cumsum(arr))\n",
    "print(np.cumsum(arr,axis=1)) #行"
   ]
  },
  {
   "cell_type": "markdown",
   "metadata": {},
   "source": [
    "### 12、修剪：clip\n",
    "\n",
    "    np.clip(arr,5,9)\n",
    "    小于5的数全部让它变成5，大于9的数全部是9"
   ]
  },
  {
   "cell_type": "code",
   "execution_count": 13,
   "metadata": {},
   "outputs": [
    {
     "name": "stdout",
     "output_type": "stream",
     "text": [
      "[[ 0  1  2  3]\n",
      " [ 4  5  9  7]\n",
      " [ 8  9 10 11]]\n",
      "[[5 5 5 5]\n",
      " [5 5 9 7]\n",
      " [8 9 9 9]]\n"
     ]
    }
   ],
   "source": [
    "print(arr)\n",
    "print(np.clip(arr,5,9))"
   ]
  },
  {
   "cell_type": "code",
   "execution_count": null,
   "metadata": {},
   "outputs": [],
   "source": []
  }
 ],
 "metadata": {
  "kernelspec": {
   "display_name": "Python 3",
   "language": "python",
   "name": "python3"
  },
  "language_info": {
   "codemirror_mode": {
    "name": "ipython",
    "version": 3
   },
   "file_extension": ".py",
   "mimetype": "text/x-python",
   "name": "python",
   "nbconvert_exporter": "python",
   "pygments_lexer": "ipython3",
   "version": "3.8.8"
  },
  "latex_envs": {
   "LaTeX_envs_menu_present": true,
   "autoclose": false,
   "autocomplete": true,
   "bibliofile": "biblio.bib",
   "cite_by": "apalike",
   "current_citInitial": 1,
   "eqLabelWithNumbers": true,
   "eqNumInitial": 1,
   "hotkeys": {
    "equation": "Ctrl-E",
    "itemize": "Ctrl-I"
   },
   "labels_anchors": false,
   "latex_user_defs": false,
   "report_style_numbering": false,
   "user_envs_cfg": false
  },
  "toc": {
   "base_numbering": 1,
   "nav_menu": {},
   "number_sections": true,
   "sideBar": true,
   "skip_h1_title": false,
   "title_cell": "Table of Contents",
   "title_sidebar": "Contents",
   "toc_cell": false,
   "toc_position": {},
   "toc_section_display": true,
   "toc_window_display": false
  },
  "varInspector": {
   "cols": {
    "lenName": 16,
    "lenType": 16,
    "lenVar": 40
   },
   "kernels_config": {
    "python": {
     "delete_cmd_postfix": "",
     "delete_cmd_prefix": "del ",
     "library": "var_list.py",
     "varRefreshCmd": "print(var_dic_list())"
    },
    "r": {
     "delete_cmd_postfix": ") ",
     "delete_cmd_prefix": "rm(",
     "library": "var_list.r",
     "varRefreshCmd": "cat(var_dic_list()) "
    }
   },
   "types_to_exclude": [
    "module",
    "function",
    "builtin_function_or_method",
    "instance",
    "_Feature"
   ],
   "window_display": false
  }
 },
 "nbformat": 4,
 "nbformat_minor": 4
}
