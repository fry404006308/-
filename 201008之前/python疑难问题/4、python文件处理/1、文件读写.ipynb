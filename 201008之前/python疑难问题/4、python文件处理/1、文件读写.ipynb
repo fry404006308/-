{
 "cells": [
  {
   "cell_type": "markdown",
   "metadata": {},
   "source": [
    "# <center> <font color=red>Python文件读写</font> </center>"
   ]
  },
  {
   "cell_type": "markdown",
   "metadata": {},
   "source": [
    "## 一、文件的写操作"
   ]
  },
  {
   "cell_type": "code",
   "execution_count": 14,
   "metadata": {},
   "outputs": [],
   "source": [
    "f = open(\"test.txt\",\"w\",encoding=\"utf8\")\n",
    "f.write(\"I am here.\\n\")\n",
    "f.write(\"老干妈大战腾讯，最新迷幻反转！我笑疯了，哈哈哈哈哈哈\")\n",
    "f.close()"
   ]
  },
  {
   "cell_type": "markdown",
   "metadata": {},
   "source": [
    "## 二、文件的读操作"
   ]
  },
  {
   "cell_type": "code",
   "execution_count": 15,
   "metadata": {},
   "outputs": [
    {
     "name": "stdout",
     "output_type": "stream",
     "text": [
      "I am h\n"
     ]
    }
   ],
   "source": [
    "f = open(\"test.txt\",\"r\",encoding=\"utf8\")\n",
    "# 读取指定个数的字符\n",
    "content = f.read(6)\n",
    "print(content)\n",
    "f.close()"
   ]
  },
  {
   "cell_type": "code",
   "execution_count": 17,
   "metadata": {},
   "outputs": [
    {
     "name": "stdout",
     "output_type": "stream",
     "text": [
      "I am here.\n",
      "\n",
      "老干妈大战腾讯，最新迷幻反转！我笑疯了，哈哈哈哈哈哈\n"
     ]
    }
   ],
   "source": [
    "# 一行一行的来读文件\n",
    "f = open(\"test.txt\",\"r\",encoding=\"utf8\")\n",
    "content = f.readline()\n",
    "print(content)\n",
    "content = f.readline()\n",
    "print(content)\n",
    "f.close()"
   ]
  },
  {
   "cell_type": "code",
   "execution_count": 19,
   "metadata": {},
   "outputs": [
    {
     "name": "stdout",
     "output_type": "stream",
     "text": [
      "['I am here.\\n', '老干妈大战腾讯，最新迷幻反转！我笑疯了，哈哈哈哈哈哈']\n",
      "I am here.\n",
      "老干妈大战腾讯，最新迷幻反转！我笑疯了，哈哈哈哈哈哈"
     ]
    }
   ],
   "source": [
    "# 一次读取多行\n",
    "# 读取出来的是一个列表，列表中的每一个元素就是对应的每一行的内容\n",
    "f = open(\"test.txt\",\"r\",encoding=\"utf8\")\n",
    "content = f.readlines()\n",
    "print(content)\n",
    "for i in content:\n",
    "    print(i,end=\"\")\n",
    "f.close()"
   ]
  },
  {
   "cell_type": "markdown",
   "metadata": {},
   "source": [
    "## 三、文件的其它操作"
   ]
  },
  {
   "cell_type": "code",
   "execution_count": 20,
   "metadata": {},
   "outputs": [],
   "source": [
    "# 文件的重命名操作\n",
    "# 文件的重命名、删除文件、创建目录等操作都需要引入os模块\n",
    "import os\n",
    "os.rename(\"test.txt\",\"aaa.txt\")"
   ]
  },
  {
   "cell_type": "code",
   "execution_count": null,
   "metadata": {},
   "outputs": [],
   "source": []
  }
 ],
 "metadata": {
  "kernelspec": {
   "display_name": "Python 3",
   "language": "python",
   "name": "python3"
  },
  "language_info": {
   "codemirror_mode": {
    "name": "ipython",
    "version": 3
   },
   "file_extension": ".py",
   "mimetype": "text/x-python",
   "name": "python",
   "nbconvert_exporter": "python",
   "pygments_lexer": "ipython3",
   "version": "3.7.6"
  }
 },
 "nbformat": 4,
 "nbformat_minor": 4
}
