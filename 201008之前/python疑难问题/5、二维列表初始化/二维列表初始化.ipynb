{
 "cells": [
  {
   "cell_type": "markdown",
   "metadata": {},
   "source": [
    "# <center><font color=red>二维列表初始化</font></center>"
   ]
  },
  {
   "cell_type": "markdown",
   "metadata": {},
   "source": [
    "## 一、分析"
   ]
  },
  {
   "cell_type": "markdown",
   "metadata": {},
   "source": [
    "当我们使用python处理数据的时候，经常会遇到需要初始化一个二维列表，然后对列表的每一个子项目（我们这里假设也是列表）进行操作。\n",
    "\n",
    "列表的乘号(*)操作可以重复元素，比如"
   ]
  },
  {
   "cell_type": "code",
   "execution_count": 16,
   "metadata": {},
   "outputs": [
    {
     "name": "stdout",
     "output_type": "stream",
     "text": [
      "['Hi!', 'Hi!', 'Hi!', 'Hi!']\n"
     ]
    }
   ],
   "source": [
    "print(['Hi!'] * 4)"
   ]
  },
  {
   "cell_type": "markdown",
   "metadata": {},
   "source": [
    "所以我们考虑用 *号 来初始化列表"
   ]
  },
  {
   "cell_type": "code",
   "execution_count": 17,
   "metadata": {
    "scrolled": true
   },
   "outputs": [
    {
     "name": "stdout",
     "output_type": "stream",
     "text": [
      "[0, 0, 0, 0, 0]\n"
     ]
    }
   ],
   "source": [
    "a = [0] * 5\n",
    "print(a)"
   ]
  },
  {
   "cell_type": "code",
   "execution_count": 18,
   "metadata": {},
   "outputs": [
    {
     "name": "stdout",
     "output_type": "stream",
     "text": [
      "140724000563568\n",
      "140724000563568\n",
      "140724000563568\n",
      "140724000563568\n",
      "140724000563568\n"
     ]
    }
   ],
   "source": [
    "print(id(a[0]))\n",
    "print(id(a[1]))\n",
    "print(id(a[2]))\n",
    "print(id(a[3]))\n",
    "print(id(a[4]))"
   ]
  },
  {
   "cell_type": "code",
   "execution_count": 19,
   "metadata": {},
   "outputs": [
    {
     "name": "stdout",
     "output_type": "stream",
     "text": [
      "[0, 1, 0, 7, 0]\n"
     ]
    }
   ],
   "source": [
    "a[1]=1\n",
    "a[3]=7\n",
    "print(a)"
   ]
  },
  {
   "cell_type": "code",
   "execution_count": 20,
   "metadata": {},
   "outputs": [
    {
     "name": "stdout",
     "output_type": "stream",
     "text": [
      "140724000563568\n",
      "140724000563600\n",
      "140724000563568\n",
      "140724000563792\n",
      "140724000563568\n"
     ]
    }
   ],
   "source": [
    "print(id(a[0]))\n",
    "print(id(a[1]))\n",
    "print(id(a[2]))\n",
    "print(id(a[3]))\n",
    "print(id(a[4]))"
   ]
  },
  {
   "cell_type": "markdown",
   "metadata": {},
   "source": [
    "### 普通初始化的列表"
   ]
  },
  {
   "cell_type": "code",
   "execution_count": 21,
   "metadata": {},
   "outputs": [
    {
     "name": "stdout",
     "output_type": "stream",
     "text": [
      "140724000563568\n",
      "140724000563568\n",
      "140724000563568\n",
      "140724000563568\n",
      "140724000563568\n"
     ]
    }
   ],
   "source": [
    "aa = [0,0,0,0,0]\n",
    "print(id(aa[0]))\n",
    "print(id(aa[1]))\n",
    "print(id(aa[2]))\n",
    "print(id(aa[3]))\n",
    "print(id(aa[4]))"
   ]
  },
  {
   "cell_type": "code",
   "execution_count": 22,
   "metadata": {
    "scrolled": true
   },
   "outputs": [
    {
     "name": "stdout",
     "output_type": "stream",
     "text": [
      "[0, 11, 22, 0, 0]\n"
     ]
    }
   ],
   "source": [
    "aa[1] = 11\n",
    "aa[2] = 22\n",
    "print(aa)"
   ]
  },
  {
   "cell_type": "code",
   "execution_count": 23,
   "metadata": {},
   "outputs": [
    {
     "name": "stdout",
     "output_type": "stream",
     "text": [
      "140724000563568\n",
      "140724000563920\n",
      "140724000564272\n",
      "140724000563568\n",
      "140724000563568\n"
     ]
    }
   ],
   "source": [
    "print(id(aa[0]))\n",
    "print(id(aa[1]))\n",
    "print(id(aa[2]))\n",
    "print(id(aa[3]))\n",
    "print(id(aa[4]))"
   ]
  },
  {
   "cell_type": "markdown",
   "metadata": {},
   "source": [
    "我们可以根据这种思路快速初始化二维列表"
   ]
  },
  {
   "cell_type": "markdown",
   "metadata": {},
   "source": [
    "## 二、有坑的方式"
   ]
  },
  {
   "cell_type": "code",
   "execution_count": 24,
   "metadata": {},
   "outputs": [
    {
     "name": "stdout",
     "output_type": "stream",
     "text": [
      "[[0, 0, 0, 0], [0, 0, 0, 0], [0, 0, 0, 0]]\n"
     ]
    }
   ],
   "source": [
    "b = [[0] * 4] * 3\n",
    "print(b)"
   ]
  },
  {
   "cell_type": "markdown",
   "metadata": {},
   "source": [
    "这样的确非常快的初始化了一个列表，但是这样有一个很大的问题"
   ]
  },
  {
   "cell_type": "code",
   "execution_count": 25,
   "metadata": {},
   "outputs": [
    {
     "name": "stdout",
     "output_type": "stream",
     "text": [
      "[['这个方法不行', 0, 0, 0], ['这个方法不行', 0, 0, 0], ['这个方法不行', 0, 0, 0]]\n"
     ]
    }
   ],
   "source": [
    "b[0][0] = \"这个方法不行\"\n",
    "print(b)"
   ]
  },
  {
   "cell_type": "markdown",
   "metadata": {},
   "source": [
    "我们可以看到，我们本来是希望将 \"这个方法不行\" 赋值给b[0][0]，结果发现b[i][0]的值都是 \"这个方法不行\" 了\n",
    "\n",
    "为什么会这样呢？\n",
    "\n",
    "我们来看这个式子：b = [[0] * 4] * 3中的后面这个3，将前面的列表重复了3次，我们重复之后，得到的子列表的地址是一样，\n",
    "\n",
    "而python中列表是可变数据类型（也就是列表里面数据变的时候，地址不会变，值相同的两个列表，地址也是不一样的，如果两个列表地址是一样的，代表的是同一个列表），既然代表的是同样一个列表，那么一个变，其它跟着变，也很好解释了\n"
   ]
  },
  {
   "cell_type": "markdown",
   "metadata": {},
   "source": [
    "<font color=blue>\n",
    "\n",
    "b = [[0] * 4] * 3 初始化3行4列 二维数组不可行的实质\n",
    "\n",
    "列表在用乘号(*)重复的时候，重复的列表的地址是一样的，而python中的列表是可变数据类型，地址一样，代表指向的是同一个列表，当然会一变全变，也就是b[0][0]变的时候，b[1][0]和b[2][0]都会跟着变\n",
    "</font>    "
   ]
  },
  {
   "cell_type": "code",
   "execution_count": 26,
   "metadata": {
    "scrolled": true
   },
   "outputs": [
    {
     "name": "stdout",
     "output_type": "stream",
     "text": [
      "1728181289928\n",
      "1728181289928\n",
      "1728181289928\n"
     ]
    }
   ],
   "source": [
    "print(id(b[0]))\n",
    "print(id(b[1]))\n",
    "print(id(b[2]))"
   ]
  },
  {
   "cell_type": "markdown",
   "metadata": {},
   "source": [
    "### 我们来看一下正常方式初始化的列表"
   ]
  },
  {
   "cell_type": "markdown",
   "metadata": {},
   "source": [
    "我们来看一下正常方式初始化的列表，对应的二维列表中的一维列表的地址肯定是不一样的，地址不一样，操作肯定互不影响"
   ]
  },
  {
   "cell_type": "code",
   "execution_count": 27,
   "metadata": {},
   "outputs": [
    {
     "name": "stdout",
     "output_type": "stream",
     "text": [
      "1728183167816\n",
      "1728183168136\n",
      "1728183168008\n"
     ]
    }
   ],
   "source": [
    "bb = [[0, 0, 0, 0], [0, 0, 0, 0], [0, 0, 0, 0]]\n",
    "print(id(bb[0]))\n",
    "print(id(bb[1]))\n",
    "print(id(bb[2]))"
   ]
  },
  {
   "cell_type": "code",
   "execution_count": 28,
   "metadata": {},
   "outputs": [
    {
     "name": "stdout",
     "output_type": "stream",
     "text": [
      "[[1, 0, 0, 0], [0, 0, 0, 0], [0, 0, 5, 0]]\n"
     ]
    }
   ],
   "source": [
    "bb[0][0] = 1\n",
    "bb[2][2] = 5\n",
    "print(bb)"
   ]
  },
  {
   "cell_type": "markdown",
   "metadata": {},
   "source": [
    "## 三、正确的方式"
   ]
  },
  {
   "cell_type": "markdown",
   "metadata": {},
   "source": [
    "<font color=purple>\n",
    "    可以用c = [[0] * 4 for _ in range(3)]的方式来初始化3行4列的二维数组，用乘号(*)重复不可变数据类型（这里是int 0），用循环重复可变数据类型（这里是列表）\n",
    "</font>    "
   ]
  },
  {
   "cell_type": "code",
   "execution_count": 31,
   "metadata": {},
   "outputs": [
    {
     "name": "stdout",
     "output_type": "stream",
     "text": [
      "[['这个方法行', 0, 0, 0], [0, 0, 0, 0], [0, 0, 0, 0]]\n"
     ]
    }
   ],
   "source": [
    "c = [[0] * 4 for _ in range(3)]\n",
    "c[0][0]='这个方法行'\n",
    "print(c)"
   ]
  },
  {
   "cell_type": "code",
   "execution_count": 32,
   "metadata": {},
   "outputs": [
    {
     "name": "stdout",
     "output_type": "stream",
     "text": [
      "1728183168200\n",
      "1728183189704\n",
      "1728183189640\n"
     ]
    }
   ],
   "source": [
    "print(id(c[0]))\n",
    "print(id(c[1]))\n",
    "print(id(c[2]))"
   ]
  },
  {
   "cell_type": "code",
   "execution_count": 4,
   "metadata": {
    "ExecuteTime": {
     "end_time": "2021-10-05T08:50:37.072471Z",
     "start_time": "2021-10-05T08:50:37.064487Z"
    }
   },
   "outputs": [
    {
     "name": "stdout",
     "output_type": "stream",
     "text": [
      "0\n",
      "1\n",
      "2\n"
     ]
    }
   ],
   "source": [
    "for _ in range(3):\n",
    "    print(_)"
   ]
  },
  {
   "cell_type": "code",
   "execution_count": 5,
   "metadata": {
    "ExecuteTime": {
     "end_time": "2021-10-05T08:51:18.598002Z",
     "start_time": "2021-10-05T08:51:18.590024Z"
    }
   },
   "outputs": [
    {
     "name": "stdout",
     "output_type": "stream",
     "text": [
      "[0, 0, 0, 0]\n"
     ]
    }
   ],
   "source": [
    "print([0] * 4)"
   ]
  },
  {
   "cell_type": "code",
   "execution_count": null,
   "metadata": {},
   "outputs": [],
   "source": []
  }
 ],
 "metadata": {
  "kernelspec": {
   "display_name": "Python 3",
   "language": "python",
   "name": "python3"
  },
  "language_info": {
   "codemirror_mode": {
    "name": "ipython",
    "version": 3
   },
   "file_extension": ".py",
   "mimetype": "text/x-python",
   "name": "python",
   "nbconvert_exporter": "python",
   "pygments_lexer": "ipython3",
   "version": "3.8.8"
  },
  "latex_envs": {
   "LaTeX_envs_menu_present": true,
   "autoclose": false,
   "autocomplete": true,
   "bibliofile": "biblio.bib",
   "cite_by": "apalike",
   "current_citInitial": 1,
   "eqLabelWithNumbers": true,
   "eqNumInitial": 1,
   "hotkeys": {
    "equation": "Ctrl-E",
    "itemize": "Ctrl-I"
   },
   "labels_anchors": false,
   "latex_user_defs": false,
   "report_style_numbering": false,
   "user_envs_cfg": false
  },
  "toc": {
   "base_numbering": 1,
   "nav_menu": {},
   "number_sections": false,
   "sideBar": true,
   "skip_h1_title": false,
   "title_cell": "Table of Contents",
   "title_sidebar": "Contents",
   "toc_cell": false,
   "toc_position": {},
   "toc_section_display": true,
   "toc_window_display": true
  },
  "varInspector": {
   "cols": {
    "lenName": 16,
    "lenType": 16,
    "lenVar": 40
   },
   "kernels_config": {
    "python": {
     "delete_cmd_postfix": "",
     "delete_cmd_prefix": "del ",
     "library": "var_list.py",
     "varRefreshCmd": "print(var_dic_list())"
    },
    "r": {
     "delete_cmd_postfix": ") ",
     "delete_cmd_prefix": "rm(",
     "library": "var_list.r",
     "varRefreshCmd": "cat(var_dic_list()) "
    }
   },
   "types_to_exclude": [
    "module",
    "function",
    "builtin_function_or_method",
    "instance",
    "_Feature"
   ],
   "window_display": false
  }
 },
 "nbformat": 4,
 "nbformat_minor": 4
}
