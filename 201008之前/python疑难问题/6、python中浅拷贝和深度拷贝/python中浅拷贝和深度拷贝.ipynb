{
 "cells": [
  {
   "cell_type": "markdown",
   "metadata": {},
   "source": [
    "# <div style=\"text-align:center;color:red\">python中浅拷贝和深度拷贝</div>"
   ]
  },
  {
   "cell_type": "markdown",
   "metadata": {},
   "source": [
    "浅拷贝和深拷贝在面试和日常的开发中都会经常遇到\n",
    "\n",
    "我们就从 对象赋值、浅拷贝、深拷贝 三个方面来讲"
   ]
  },
  {
   "cell_type": "markdown",
   "metadata": {},
   "source": [
    "## 一、对象赋值"
   ]
  },
  {
   "cell_type": "code",
   "execution_count": 1,
   "metadata": {},
   "outputs": [
    {
     "name": "stdout",
     "output_type": "stream",
     "text": [
      "[1, 2, ['a', 'b']]\n",
      "[1, 2, ['a', 'b']]\n"
     ]
    }
   ],
   "source": [
    "list1 = [1, 2, ['a', 'b']]\n",
    "list2 = list1\n",
    "print(list1)\n",
    "print(list2)"
   ]
  },
  {
   "cell_type": "code",
   "execution_count": 2,
   "metadata": {},
   "outputs": [
    {
     "name": "stdout",
     "output_type": "stream",
     "text": [
      "[3, 2, ['a', 'b']]\n",
      "[3, 2, ['a', 'b']]\n"
     ]
    }
   ],
   "source": [
    "list1[0] = 3\n",
    "print(list1)\n",
    "print(list2)"
   ]
  },
  {
   "cell_type": "code",
   "execution_count": 3,
   "metadata": {},
   "outputs": [
    {
     "name": "stdout",
     "output_type": "stream",
     "text": [
      "[3, [1, 2], ['a', 'b']]\n",
      "[3, [1, 2], ['a', 'b']]\n"
     ]
    }
   ],
   "source": [
    "list2[1]=[1,2]\n",
    "print(list1)\n",
    "print(list2)"
   ]
  },
  {
   "cell_type": "code",
   "execution_count": 4,
   "metadata": {},
   "outputs": [
    {
     "name": "stdout",
     "output_type": "stream",
     "text": [
      "1742901832264\n",
      "1742901832264\n"
     ]
    }
   ],
   "source": [
    "print(id(list1))\n",
    "print(id(list2))"
   ]
  },
  {
   "cell_type": "markdown",
   "metadata": {},
   "source": [
    "结论：直接对象赋值，两个对象的地址是一样的，也就是这两个变量指向是同一个对象，两个变量会同步变化"
   ]
  },
  {
   "cell_type": "markdown",
   "metadata": {},
   "source": [
    "## 二、浅拷贝"
   ]
  },
  {
   "cell_type": "code",
   "execution_count": 5,
   "metadata": {
    "scrolled": true
   },
   "outputs": [
    {
     "name": "stdout",
     "output_type": "stream",
     "text": [
      "[1, 'a', ['a', 'b']]\n",
      "[1, 'a', ['a', 'b']]\n",
      "1742901926344\n",
      "1742901925512\n"
     ]
    }
   ],
   "source": [
    "import copy\n",
    "A = [1, 'a', ['a', 'b']]\n",
    "# B = A.copy() # 浅拷贝\n",
    "B = copy.copy(A) # 浅拷贝\n",
    "\n",
    "print(A)\n",
    "print(B)\n",
    "print(id(A))\n",
    "print(id(B))"
   ]
  },
  {
   "cell_type": "markdown",
   "metadata": {},
   "source": [
    "两个对象的内存地址不一样，也就是不是同一个对象"
   ]
  },
  {
   "cell_type": "code",
   "execution_count": 6,
   "metadata": {},
   "outputs": [
    {
     "name": "stdout",
     "output_type": "stream",
     "text": [
      "值 1 的地址是：140724000563600\n",
      "值 a 的地址是：1742860054320\n",
      "值 ['a', 'b'] 的地址是：1742901889800\n"
     ]
    }
   ],
   "source": [
    "# 循环分别打印每个对象中的成员的地址\n",
    "# 打印A\n",
    "for i in A:\n",
    "    print(\"值 {} 的地址是：{}\".format(i,id(i)))"
   ]
  },
  {
   "cell_type": "code",
   "execution_count": 7,
   "metadata": {},
   "outputs": [
    {
     "name": "stdout",
     "output_type": "stream",
     "text": [
      "值 1 的地址是：140724000563600\n",
      "值 a 的地址是：1742860054320\n",
      "值 ['a', 'b'] 的地址是：1742901889800\n"
     ]
    }
   ],
   "source": [
    "# 循环分别打印每个对象中的成员的地址\n",
    "# 打印B\n",
    "for i in B:\n",
    "    print(\"值 {} 的地址是：{}\".format(i,id(i)))"
   ]
  },
  {
   "cell_type": "markdown",
   "metadata": {},
   "source": [
    "int类型的1和字符串型的a都是不可变数据类型，不可变数据类型值一样，地址一样，值不一样，地址就不一样\n",
    "\n",
    "列表['a', 'b']是可变数据类型，可变数据类型是 变量中数据变的时候，地址不会变，值相同的两个对象，地址是不一样的，如果地址一样，表示指的是同一个对象\n",
    "\n",
    "现在 A[2] 和 B[2] 指向的是同一个地址，说明是同一个列表，一个改变，另外的一个也会同步改变"
   ]
  },
  {
   "cell_type": "markdown",
   "metadata": {},
   "source": [
    "通常来讲不可变元素包含：\n",
    "\n",
    "int,float,complex,long,str,unicode,tuple"
   ]
  },
  {
   "cell_type": "code",
   "execution_count": 8,
   "metadata": {},
   "outputs": [
    {
     "name": "stdout",
     "output_type": "stream",
     "text": [
      "[1, 'a', ['a', 'b', 3]]\n",
      "[1, 'a', ['a', 'b', 3]]\n"
     ]
    }
   ],
   "source": [
    "# 在 A[2] 中增加元素\n",
    "A[2].append(3)\n",
    "print(A)\n",
    "print(B)\n"
   ]
  },
  {
   "cell_type": "code",
   "execution_count": 9,
   "metadata": {},
   "outputs": [
    {
     "name": "stdout",
     "output_type": "stream",
     "text": [
      "[1, 'a', ['a', 'b', 3], 3]\n",
      "[1, 'a', ['a', 'b', 3]]\n"
     ]
    }
   ],
   "source": [
    "# 向A中增加元素\n",
    "A.append(3)\n",
    "print(A)\n",
    "print(B)"
   ]
  },
  {
   "cell_type": "code",
   "execution_count": 10,
   "metadata": {},
   "outputs": [
    {
     "name": "stdout",
     "output_type": "stream",
     "text": [
      "[2, 'a', ['a', 'b', 3], 3]\n",
      "[1, 'a', ['a', 'b', 3]]\n"
     ]
    }
   ],
   "source": [
    "A[0]=2\n",
    "print(A)\n",
    "print(B)"
   ]
  },
  {
   "cell_type": "markdown",
   "metadata": {},
   "source": [
    "<div style=\"color:red;font-weight:600;\">\n",
    "浅拷贝（copy.copy()）：拷贝父对象，不会拷贝对象的内部的子对象，也就是子对象共用\n",
    "    \n",
    "    如果子对象是不可变数据类型，那么复制的对象和原来的对象互不影响\n",
    "   \n",
    "    如果是可变数据类型，那么复制的对象和原来的对象共用\n",
    "    \n",
    "\n",
    "</div>"
   ]
  },
  {
   "cell_type": "code",
   "execution_count": 11,
   "metadata": {},
   "outputs": [
    {
     "name": "stdout",
     "output_type": "stream",
     "text": [
      "[2, 'a', [1, 2], 3]\n",
      "[1, 'a', ['a', 'b', 3]]\n"
     ]
    }
   ],
   "source": [
    "A[2]=[1,2]\n",
    "print(A)\n",
    "print(B)"
   ]
  },
  {
   "cell_type": "code",
   "execution_count": 12,
   "metadata": {},
   "outputs": [
    {
     "name": "stdout",
     "output_type": "stream",
     "text": [
      "1742901889416\n",
      "1742901889800\n"
     ]
    }
   ],
   "source": [
    "print(id(A[2]))\n",
    "print(id(B[2]))"
   ]
  },
  {
   "cell_type": "markdown",
   "metadata": {},
   "source": [
    "可以看到 现在 A[2] 和 B[2] 的地址不一样了，那么他们就互不影响了\n",
    "\n",
    "\n",
    "\n",
    "其实<span style=\"color:red;\">看两个可变数据类型是否互相影响，就是看他们的地址是否一样</span>\n",
    "\n"
   ]
  },
  {
   "cell_type": "markdown",
   "metadata": {},
   "source": [
    "## 三、深拷贝"
   ]
  },
  {
   "cell_type": "code",
   "execution_count": 13,
   "metadata": {},
   "outputs": [
    {
     "name": "stdout",
     "output_type": "stream",
     "text": [
      "[1, 'a', ['a', 'b']]\n",
      "[1, 'a', ['a', 'b']]\n",
      "1742900283720\n",
      "1742900260680\n"
     ]
    }
   ],
   "source": [
    "m = [1, 'a', ['a', 'b']]\n",
    "n = copy.deepcopy(m)\n",
    "print(m)\n",
    "print(n)\n",
    "print(id(m))\n",
    "print(id(n))"
   ]
  },
  {
   "cell_type": "code",
   "execution_count": 14,
   "metadata": {},
   "outputs": [
    {
     "name": "stdout",
     "output_type": "stream",
     "text": [
      "值 1 的地址是：140724000563600\n",
      "值 a 的地址是：1742860054320\n",
      "值 ['a', 'b'] 的地址是：1742900341320\n"
     ]
    }
   ],
   "source": [
    "# 循环分别打印每个对象中的成员的地址\n",
    "# 打印m\n",
    "for i in m:\n",
    "    print(\"值 {} 的地址是：{}\".format(i,id(i)))"
   ]
  },
  {
   "cell_type": "code",
   "execution_count": 15,
   "metadata": {},
   "outputs": [
    {
     "name": "stdout",
     "output_type": "stream",
     "text": [
      "值 1 的地址是：140724000563600\n",
      "值 a 的地址是：1742860054320\n",
      "值 ['a', 'b'] 的地址是：1742900283208\n"
     ]
    }
   ],
   "source": [
    "# 循环分别打印每个对象中的成员的地址\n",
    "# 打印n\n",
    "for i in n:\n",
    "    print(\"值 {} 的地址是：{}\".format(i,id(i)))"
   ]
  },
  {
   "cell_type": "markdown",
   "metadata": {},
   "source": [
    "可以看到，m和n两个对象本身的地址是不一样的，\n",
    "\n",
    "并且m和n中成员中的可变数据类型的地址也是不一样的，所以它们两个是完全互不影响的"
   ]
  },
  {
   "cell_type": "code",
   "execution_count": 16,
   "metadata": {
    "scrolled": false
   },
   "outputs": [
    {
     "name": "stdout",
     "output_type": "stream",
     "text": [
      "[1, 'a', ['a', 'b', 3]]\n",
      "[1, 5, ['a', 'b']]\n"
     ]
    }
   ],
   "source": [
    "m[2].append(3)\n",
    "n[1]=5\n",
    "print(m)\n",
    "print(n)"
   ]
  },
  {
   "cell_type": "markdown",
   "metadata": {},
   "source": [
    "<div style=\"color:red;font-weight:600;\">\n",
    "浅拷贝（copy.copy()）：拷贝父对象，不会拷贝对象的内部的子对象，也就是子对象共用\n",
    "    \n",
    "    如果子对象是不可变数据类型，那么复制的对象和原来的对象互不影响\n",
    "   \n",
    "    如果是可变数据类型，那么复制的对象和原来的对象共用\n",
    "    \n",
    "\n",
    "深拷贝（copy.deepcopy()）：完全拷贝父对象跟子对象，复制的对象和原来的对象互不相关\n",
    "</div>"
   ]
  },
  {
   "cell_type": "markdown",
   "metadata": {},
   "source": [
    "## 四、深入解析"
   ]
  },
  {
   "cell_type": "markdown",
   "metadata": {},
   "source": [
    "1、b = a.copy(): 浅拷贝, a 和 b 是一个独立的对象，但他们的子对象还是指向统一对象（是引用）。\n",
    "\n",
    "![浅拷贝原理图](a.png \"浅拷贝原理图\")\n",
    "\n",
    "2、b = copy.deepcopy(a): 深度拷贝, a 和 b 完全拷贝了父对象及其子对象，两者是完全独立的。\n",
    "\n",
    "![浅拷贝原理图](b.png \"浅拷贝原理图\")\n",
    "\n"
   ]
  },
  {
   "cell_type": "code",
   "execution_count": null,
   "metadata": {},
   "outputs": [],
   "source": []
  }
 ],
 "metadata": {
  "kernelspec": {
   "display_name": "Python 3",
   "language": "python",
   "name": "python3"
  },
  "language_info": {
   "codemirror_mode": {
    "name": "ipython",
    "version": 3
   },
   "file_extension": ".py",
   "mimetype": "text/x-python",
   "name": "python",
   "nbconvert_exporter": "python",
   "pygments_lexer": "ipython3",
   "version": "3.8.8"
  },
  "latex_envs": {
   "LaTeX_envs_menu_present": true,
   "autoclose": false,
   "autocomplete": true,
   "bibliofile": "biblio.bib",
   "cite_by": "apalike",
   "current_citInitial": 1,
   "eqLabelWithNumbers": true,
   "eqNumInitial": 1,
   "hotkeys": {
    "equation": "Ctrl-E",
    "itemize": "Ctrl-I"
   },
   "labels_anchors": false,
   "latex_user_defs": false,
   "report_style_numbering": false,
   "user_envs_cfg": false
  },
  "toc": {
   "base_numbering": 1,
   "nav_menu": {},
   "number_sections": false,
   "sideBar": true,
   "skip_h1_title": false,
   "title_cell": "Table of Contents",
   "title_sidebar": "Contents",
   "toc_cell": false,
   "toc_position": {
    "height": "calc(100% - 180px)",
    "left": "10px",
    "top": "150px",
    "width": "253.729px"
   },
   "toc_section_display": true,
   "toc_window_display": true
  },
  "varInspector": {
   "cols": {
    "lenName": 16,
    "lenType": 16,
    "lenVar": 40
   },
   "kernels_config": {
    "python": {
     "delete_cmd_postfix": "",
     "delete_cmd_prefix": "del ",
     "library": "var_list.py",
     "varRefreshCmd": "print(var_dic_list())"
    },
    "r": {
     "delete_cmd_postfix": ") ",
     "delete_cmd_prefix": "rm(",
     "library": "var_list.r",
     "varRefreshCmd": "cat(var_dic_list()) "
    }
   },
   "types_to_exclude": [
    "module",
    "function",
    "builtin_function_or_method",
    "instance",
    "_Feature"
   ],
   "window_display": false
  }
 },
 "nbformat": 4,
 "nbformat_minor": 4
}
